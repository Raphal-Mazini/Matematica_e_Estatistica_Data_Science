{
 "cells": [
  {
   "cell_type": "markdown",
   "metadata": {},
   "source": [
    "# <font color='blue'>Data Science Academy</font>\n",
    "# <font color='blue'>Matemática Para Data Science</font>\n",
    "\n",
    "## <font color='blue'>Resolvendo Sistemas de Equações Lineares</font>"
   ]
  },
  {
   "cell_type": "code",
   "execution_count": 1,
   "metadata": {},
   "outputs": [
    {
     "name": "stdout",
     "output_type": "stream",
     "text": [
      "Versão da Linguagem Python Usada Neste Jupyter Notebook: 3.9.13\n"
     ]
    }
   ],
   "source": [
    "# Versão da Linguagem Python\n",
    "# Você pode usar a versão indicada nos vídeos ou a versão abaixo!\n",
    "from platform import python_version\n",
    "print('Versão da Linguagem Python Usada Neste Jupyter Notebook:', python_version())"
   ]
  },
  {
   "cell_type": "code",
   "execution_count": 2,
   "metadata": {},
   "outputs": [],
   "source": [
    "# Para atualizar um pacote, execute o comando abaixo no terminal ou prompt de comando:\n",
    "# pip install -U nome_pacote\n",
    "\n",
    "# Para instalar a versão exata de um pacote, execute o comando abaixo no terminal ou prompt de comando:\n",
    "# !pip install nome_pacote==versão_desejada\n",
    "\n",
    "# Depois de instalar ou atualizar o pacote, reinicie o jupyter notebook.\n",
    "\n",
    "# Instala o pacote watermark. \n",
    "# Esse pacote é usado para gravar as versões de outros pacotes usados neste jupyter notebook.\n",
    "# !pip install -q -U watermark"
   ]
  },
  {
   "cell_type": "code",
   "execution_count": 3,
   "metadata": {
    "colab": {
     "base_uri": "https://localhost:8080/",
     "height": 242
    },
    "id": "bIF1Kp9XQD2B",
    "outputId": "89433151-f6bc-49f7-cb2e-fbc0edce8d59"
   },
   "outputs": [],
   "source": [
    "# Imports\n",
    "import numpy as np\n",
    "import scipy.linalg as la"
   ]
  },
  {
   "cell_type": "code",
   "execution_count": 4,
   "metadata": {},
   "outputs": [
    {
     "name": "stdout",
     "output_type": "stream",
     "text": [
      "Author: Data Science Academy\n",
      "\n",
      "scipy: 1.10.0\n",
      "numpy: 1.22.2\n",
      "\n"
     ]
    }
   ],
   "source": [
    "# Versões dos pacotes usados neste jupyter notebook\n",
    "%reload_ext watermark\n",
    "%watermark -a \"Data Science Academy\" --iversions"
   ]
  },
  {
   "cell_type": "markdown",
   "metadata": {},
   "source": [
    "## Eliminação de Gauss\n",
    "\n",
    "A Eliminação de Gauss é um método de solução de sistemas de equações lineares que consiste em transformar a matriz dos coeficientes em uma matriz triangular superior (ou inferior), para que o sistema possa ser resolvido por substituição.\n",
    "\n",
    "O método é baseado na eliminação de incógnitas por meio da combinação linear das equações do sistema. Em cada etapa do método, uma das incógnitas é eliminada, fazendo com que os coeficientes de uma linha da matriz dos coeficientes se anulem em relação à mesma coluna das outras linhas.\n",
    "\n",
    "A seguir, está a fórmula matemática da Eliminação de Gauss para transformar uma matriz dos coeficientes A em uma matriz triangular superior:\n",
    "\n",
    "Para cada coluna i (de 1 a n) da matriz A:\n",
    "\n",
    "- Selecionar o pivô P na linha i e coluna i: P = A[i, i]\n",
    "- Para cada linha j (de i+1 a n) abaixo da linha i:\n",
    "- Calcular o fator de eliminação m: m = A[j, i] / P\n",
    "- Para cada coluna k (de i a n), subtrair a linha i multiplicada por m da linha j: A[j, k] = A[j, k] - m * A[i, k]\n",
    "- Atualizar o termo independente b_j: b[j] = b[j] - m * b[i]\n",
    "\n",
    "Após a eliminação, a matriz dos coeficientes A é transformada em uma matriz triangular superior e o sistema pode ser resolvido por substituição. O processo de substituição consiste em calcular a solução para a última incógnita (x_n) e, em seguida, usar essa solução para calcular as outras incógnitas de forma recursiva, da última para a primeira."
   ]
  },
  {
   "cell_type": "code",
   "execution_count": 5,
   "metadata": {},
   "outputs": [],
   "source": [
    "# Considere o seguinte sistema de equações lineares:\n",
    "\n",
    "# 2x + y + z = 5\n",
    "# 4x - 6y = -2\n",
    "# -2x + 7y + 2z = 9"
   ]
  },
  {
   "cell_type": "code",
   "execution_count": 6,
   "metadata": {},
   "outputs": [],
   "source": [
    "# Matrizes para os termos das equações\n",
    "A = np.array([[2, 1, 1], [4, -6, 0], [-2, 7, 2]])  # matriz dos coeficientes\n",
    "b = np.array([5, -2, 9])  # vetor de termos independentes"
   ]
  },
  {
   "cell_type": "code",
   "execution_count": 7,
   "metadata": {},
   "outputs": [
    {
     "name": "stdout",
     "output_type": "stream",
     "text": [
      "[[ 2  1  1]\n",
      " [ 4 -6  0]\n",
      " [-2  7  2]]\n"
     ]
    }
   ],
   "source": [
    "print(A)"
   ]
  },
  {
   "cell_type": "code",
   "execution_count": 8,
   "metadata": {},
   "outputs": [
    {
     "name": "stdout",
     "output_type": "stream",
     "text": [
      "[ 5 -2  9]\n"
     ]
    }
   ],
   "source": [
    "print(b)"
   ]
  },
  {
   "cell_type": "code",
   "execution_count": 9,
   "metadata": {},
   "outputs": [],
   "source": [
    "# Transformando a matriz em uma matriz triangular superior\n",
    "\n",
    "# Comprimento de b\n",
    "n = len(b)\n",
    "\n",
    "# Loop externo\n",
    "for i in range(n):\n",
    "    \n",
    "    # Pivô\n",
    "    pivot = A[i, i]\n",
    "    \n",
    "    # Loop interno\n",
    "    # Eliminação\n",
    "    for j in range(i+1, n):\n",
    "        factor = A[j, i] / pivot\n",
    "        A[j, i:] = A[j, i:] - factor * A[i, i:]\n",
    "        b[j] = b[j] - factor * b[i]"
   ]
  },
  {
   "cell_type": "code",
   "execution_count": 10,
   "metadata": {},
   "outputs": [],
   "source": [
    "# Resolvendo o sistema por substituição\n",
    "x = np.zeros(n)\n",
    "for i in range(n-1, -1, -1):\n",
    "    x[i] = (b[i] - np.dot(A[i, i+1:], x[i+1:])) / A[i, i]"
   ]
  },
  {
   "cell_type": "code",
   "execution_count": 11,
   "metadata": {},
   "outputs": [
    {
     "name": "stdout",
     "output_type": "stream",
     "text": [
      "Solução encontrada: [1. 1. 2.]\n"
     ]
    }
   ],
   "source": [
    "print('Solução encontrada:', x)"
   ]
  },
  {
   "cell_type": "markdown",
   "metadata": {},
   "source": [
    "## Decomposição LU (Lower Upper)\n",
    "\n",
    "A Decomposição LU é um método de solução de sistemas de equações lineares que consiste em fatorar a matriz dos coeficientes A em duas matrizes, uma triangular inferior L e outra triangular superior U, de forma que A = LU.\n",
    "\n",
    "A fatoração LU pode ser calculada utilizando o método de Eliminação de Gauss, que transforma a matriz dos coeficientes em uma matriz triangular superior (ou inferior). A matriz L contém os fatores de eliminação usados para transformar a matriz dos coeficientes em uma matriz triangular, enquanto a matriz U é a matriz triangular resultante da eliminação.\n",
    "\n",
    "A fórmula matemática para a fatoração LU é:\n",
    "\n",
    "Para cada coluna i (de 1 a n) da matriz A:\n",
    "\n",
    "- Selecionar o pivô P na linha i e coluna i: P = A[i, i]\n",
    "- Para cada linha j (de i+1 a n) abaixo da linha i:\n",
    "- Calcular o fator de eliminação m: m = A[j, i] / P\n",
    "- Para cada coluna k (de i a n), subtrair a linha i multiplicada por m da linha j: A[j, k] = A[j, k] - m * A[i, k]\n",
    "- Atualizar o termo independente b_j: b[j] = b[j] - m * b[i]\n",
    "- Armazenar o fator de eliminação na matriz L: L[j, i] = m\n",
    "- A matriz U é a matriz triangular superior resultante da eliminação.\n",
    "\n",
    "O resultado da fatoração LU é a matriz A escrita como o produto de duas matrizes, A = LU, em que L é uma matriz triangular inferior com diagonal unitária (ou seja, com 1's na diagonal principal) e U é uma matriz triangular superior. A solução do sistema pode ser calculada resolvendo-se dois sistemas de equações lineares triangulares, Lc = b e Ux = c, em que c é um vetor auxiliar.\n",
    "\n",
    "Note que a fatoração LU não pode ser aplicada a todas as matrizes, sendo necessário verificar as condições de existência da fatoração, como a não singularidade da matriz A e a não existência de pivôs nulos na eliminação."
   ]
  },
  {
   "cell_type": "code",
   "execution_count": 12,
   "metadata": {},
   "outputs": [],
   "source": [
    "# Considere o seguinte sistema de equações lineares:\n",
    "\n",
    "# 2x + y + z = 5\n",
    "# 4x - 6y = -2\n",
    "# -2x + 7y + 2z = 9"
   ]
  },
  {
   "cell_type": "code",
   "execution_count": 13,
   "metadata": {},
   "outputs": [
    {
     "name": "stdout",
     "output_type": "stream",
     "text": [
      "Solução encontrada: [1. 1. 2.]\n"
     ]
    }
   ],
   "source": [
    "# Matrizes para os termos das equações\n",
    "A = np.array([[2, 1, 1], [4, -6, 0], [-2, 7, 2]])  # matriz dos coeficientes\n",
    "b = np.array([5, -2, 9])  # vetor de termos independentes\n",
    "\n",
    "# Fatorando a matriz dos coeficientes em uma matriz triangular inferior e outra superior\n",
    "P, L, U = la.lu(A)\n",
    "\n",
    "# Resolvendo o sistema por substituição\n",
    "y = la.solve_triangular(L, P @ b, lower=True)\n",
    "x = la.solve_triangular(U, y)\n",
    "\n",
    "print('Solução encontrada:', x)"
   ]
  },
  {
   "cell_type": "markdown",
   "metadata": {},
   "source": [
    "## Método da Matriz Inversa\n",
    "\n",
    "O Método da Matriz Inversa é um método para resolver sistemas de equações lineares que consiste em calcular a inversa da matriz dos coeficientes e, em seguida, multiplicar a inversa pela matriz dos termos independentes para obter a solução.\n",
    "\n",
    "Seja um sistema de equações lineares Ax = b, em que A é a matriz dos coeficientes, x é o vetor das incógnitas e b é o vetor dos termos independentes. A solução do sistema é dada por x = A^-1 * b, onde A^-1 é a matriz inversa de A.\n",
    "\n",
    "A fórmula matemática para a inversa de uma matriz 2x2 é:\n",
    "\n",
    "A^-1 = 1/det(A) * [d(A) -b(A); -c(A) a(A)]\n",
    "\n",
    "onde det(A) é o determinante de A, a(A), b(A), c(A) e d(A) são os elementos da matriz A.\n",
    "\n",
    "Para matrizes maiores do que 2x2, o processo de inversão é mais complexo e geralmente envolve técnicas como a eliminação gaussiana com pivotação parcial.\n",
    "\n",
    "Assim, o método da matriz inversa consiste em:\n",
    "\n",
    "- Calcular a matriz inversa de A\n",
    "- Multiplicar a matriz inversa pela matriz dos termos independentes b para obter a solução x = A^-1 * b.\n",
    "\n",
    "O método da matriz inversa é computacionalmente caro para sistemas grandes, pois a inversão de uma matriz grande é um processo computacionalmente intensivo. Além disso, nem todas as matrizes têm inversa, tornando esse método inadequado para alguns sistemas."
   ]
  },
  {
   "cell_type": "code",
   "execution_count": 14,
   "metadata": {},
   "outputs": [],
   "source": [
    "# Considere o seguinte sistema de equações lineares:\n",
    "\n",
    "# 2x + y + z = 5\n",
    "# 4x - 6y = -2\n",
    "# -2x + 7y + 2z = 9"
   ]
  },
  {
   "cell_type": "code",
   "execution_count": 15,
   "metadata": {},
   "outputs": [
    {
     "name": "stdout",
     "output_type": "stream",
     "text": [
      "Solução encontrada: [1. 1. 2.]\n"
     ]
    }
   ],
   "source": [
    "# Matrizes para os termos das equações\n",
    "A = np.array([[2, 1, 1], [4, -6, 0], [-2, 7, 2]])  # matriz dos coeficientes\n",
    "b = np.array([5, -2, 9])  # vetor de termos independentes\n",
    "\n",
    "# Calculando a matriz inversa de A\n",
    "A_inv = np.linalg.inv(A)\n",
    "\n",
    "# Resolvendo o sistema pela multiplicação da matriz inversa por b\n",
    "x = A_inv @ b\n",
    "\n",
    "print('Solução encontrada:', x)"
   ]
  },
  {
   "cell_type": "markdown",
   "metadata": {},
   "source": [
    "## Escalonamento de Matrizes\n",
    "\n",
    "O escalonamento é uma técnica para resolver sistemas de equações lineares que consiste em transformar a matriz dos coeficientes em uma matriz escalonada, que é uma matriz triangular superior ou inferior. É muito similar à Eliminação de Gauss.\n",
    "\n",
    "O processo de escalonamento envolve a eliminação de incógnitas por meio da combinação linear das equações do sistema. Em cada etapa do processo, uma das incógnitas é eliminada, fazendo com que os coeficientes de uma linha da matriz dos coeficientes se anulem em relação à mesma coluna das outras linhas.\n",
    "\n",
    "A seguir, estão os passos para a solução de sistemas lineares utilizando escalonamento:\n",
    "\n",
    "1- Escrever o sistema na forma matricial Ax = b, em que A é a matriz dos coeficientes, x é o vetor das incógnitas e b é o vetor dos termos independentes.\n",
    "\n",
    "\n",
    "2- Selecionar a primeira incógnita e a primeira equação do sistema. Se o coeficiente dessa incógnita for zero, trocar a linha com outra linha abaixo que tenha um coeficiente diferente de zero nessa coluna.\n",
    "\n",
    "\n",
    "3- Utilizar a primeira equação para eliminar a primeira incógnita em todas as outras equações abaixo, usando operações elementares em linhas da matriz dos coeficientes.\n",
    "\n",
    "\n",
    "4- Selecionar a segunda incógnita e a segunda equação abaixo da primeira. Se o coeficiente dessa incógnita for zero, trocar a linha com outra linha abaixo que tenha um coeficiente diferente de zero nessa coluna.\n",
    "\n",
    "\n",
    "5- Utilizar a segunda equação para eliminar a segunda incógnita em todas as outras equações abaixo, usando operações elementares em linhas da matriz dos coeficientes.\n",
    "\n",
    "\n",
    "6- Repetir os passos 4 e 5 para cada uma das outras incógnitas, selecionando a próxima incógnita abaixo da anterior.\n",
    "\n",
    "\n",
    "7- Verificar a existência e a unicidade da solução. Se todas as linhas escalonadas tiverem pelo menos um coeficiente diferente de zero na diagonal principal, o sistema tem solução única. Caso contrário, o sistema pode não ter solução ou ter infinitas soluções.\n",
    "\n",
    "\n",
    "8- Resolver o sistema triangular superior ou inferior resultante do escalonamento por substituição, começando pela última incógnita e trabalhando em direção à primeira.\n",
    "\n",
    "\n",
    "O escalonamento é um método eficiente para resolver sistemas de equações lineares, especialmente para sistemas pequenos. No entanto, para sistemas grandes, ele pode ser computacionalmente caro e a eliminação gaussiana é geralmente preferida."
   ]
  },
  {
   "cell_type": "code",
   "execution_count": 16,
   "metadata": {},
   "outputs": [],
   "source": [
    "# Considere o seguinte sistema de equações lineares:\n",
    "\n",
    "# 2x + y + z = 5\n",
    "# 4x - 6y = -2\n",
    "# -2x + 7y + 2z = 9"
   ]
  },
  {
   "cell_type": "code",
   "execution_count": 17,
   "metadata": {},
   "outputs": [
    {
     "name": "stdout",
     "output_type": "stream",
     "text": [
      "Solução encontrada: [1. 1. 2.]\n"
     ]
    }
   ],
   "source": [
    "# Matrizes para os termos das equações\n",
    "A = np.array([[2, 1, 1], [4, -6, 0], [-2, 7, 2]], dtype=float)  # matriz dos coeficientes\n",
    "b = np.array([5, -2, 9], dtype=float)  # vetor de termos independentes\n",
    "\n",
    "# Escalonar a matriz dos coeficientes e o vetor dos termos independentes\n",
    "n = len(b)\n",
    "for i in range(n):\n",
    "    \n",
    "    # Selecionar a linha com o maior valor absoluto na coluna i\n",
    "    max_row = i + np.argmax(np.abs(A[i:, i]))\n",
    "    \n",
    "    # Trocar a linha atual com a linha com o maior valor absoluto\n",
    "    A[[i, max_row]] = A[[max_row, i]]\n",
    "    b[[i, max_row]] = b[[max_row, i]]\n",
    "    \n",
    "    # Eliminar a incógnita i nas equações abaixo\n",
    "    for j in range(i+1, n):\n",
    "        factor = A[j, i] / A[i, i]\n",
    "        A[j, i:] -= factor * A[i, i:]\n",
    "        b[j] -= factor * b[i]\n",
    "\n",
    "# Verificar a existência e a unicidade da solução\n",
    "if np.any(np.diag(A) == 0):\n",
    "    print('Sistema não tem solução única')\n",
    "else:\n",
    "    # Resolver o sistema triangular superior resultante\n",
    "    x = np.zeros(n)\n",
    "    for i in range(n-1, -1, -1):\n",
    "        x[i] = (b[i] - np.dot(A[i, i+1:], x[i+1:])) / A[i, i]\n",
    "    print('Solução encontrada:', x)"
   ]
  },
  {
   "cell_type": "markdown",
   "metadata": {},
   "source": [
    "## Método de Jacobi\n",
    "\n",
    "O Método de Jacobi é um método iterativo para resolver sistemas de equações lineares. Ele consiste em iterar por um número fixo de vezes até que a solução converja. Em cada iteração, as incógnitas são atualizadas com base em uma fórmula específica que depende dos coeficientes do sistema.\n",
    "\n",
    "A fórmula matemática do Método de Jacobi é:\n",
    "\n",
    "- Para cada incógnita x_i (de 1 a n) do sistema:\n",
    "\n",
    "- Inicializar as incógnitas com um valor inicial x_i^0\n",
    "\n",
    "- Para cada iteração k (de 1 a N), atualizar cada incógnita x_i^k+1 com a seguinte fórmula:\n",
    "\n",
    "x_i^k+1 = (b_i - Sum(A_ij * x_j^k, j=1 to n, j!=i)) / A_ii\n",
    "\n",
    "onde b é o vetor de termos independentes e A é a matriz dos coeficientes.\n",
    "\n",
    "O processo iterativo deve ser repetido até que a solução convirja para um valor aceitável, ou até que um número máximo de iterações seja atingido.\n",
    "\n",
    "A fórmula acima indica que a atualização de cada incógnita x_i depende dos valores atuais das outras incógnitas x_j. Essa dependência entre as incógnitas é o que torna o método iterativo.\n",
    "\n",
    "O Método de Jacobi converge para uma solução se a matriz dos coeficientes A for diagonalmente dominante, ou seja, se o módulo do elemento na diagonal principal for maior do que a soma dos módulos dos outros elementos da mesma linha. Além disso, a convergência também depende do valor inicial das incógnitas e do número de iterações."
   ]
  },
  {
   "cell_type": "code",
   "execution_count": 18,
   "metadata": {},
   "outputs": [],
   "source": [
    "# Considere o seguinte sistema de equações lineares:\n",
    "\n",
    "# 10x + y + z = 12\n",
    "# 2x - 10y + 3z = -5\n",
    "# x + 3y + 10z = 15"
   ]
  },
  {
   "cell_type": "code",
   "execution_count": 19,
   "metadata": {},
   "outputs": [
    {
     "name": "stdout",
     "output_type": "stream",
     "text": [
      "Solução encontrada: [0.98808419 1.02566477 1.093492  ]\n"
     ]
    }
   ],
   "source": [
    "# Definir o sistema de equações lineares na forma Ax = b\n",
    "A = np.array([[10, 1, 1], [2, -10, 3], [1, 3, 10]])\n",
    "b = np.array([12, -5, 15])\n",
    "\n",
    "# Definir o número máximo de iterações e a tolerância para convergência\n",
    "max_iter = 100\n",
    "tolerance = 1e-6\n",
    "\n",
    "# Definir a matriz de iterações do método de Jacobi\n",
    "n = len(b)\n",
    "x = np.zeros(n)\n",
    "x_next = np.zeros(n)\n",
    "\n",
    "# Executar o método de Jacobi\n",
    "for k in range(max_iter):\n",
    "    \n",
    "    for i in range(n):\n",
    "        x_next[i] = (b[i] - np.dot(A[i, :i], x[:i]) - np.dot(A[i, i+1:], x[i+1:])) / A[i, i]\n",
    "    \n",
    "    # Verificar a convergência\n",
    "    if np.linalg.norm(x_next - x) < tolerance:\n",
    "        break\n",
    "    x[:] = x_next\n",
    "\n",
    "# Imprimir a solução encontrada\n",
    "print('Solução encontrada:', x)"
   ]
  },
  {
   "cell_type": "markdown",
   "metadata": {},
   "source": [
    "# Fim"
   ]
  }
 ],
 "metadata": {
  "colab": {
   "authorship_tag": "ABX9TyPCf9qlTghL9GChly72vDLx",
   "include_colab_link": true,
   "mount_file_id": "1pXLpmBpTPTzHKaiOzVGc5gOVld_cVB0v",
   "provenance": []
  },
  "kernelspec": {
   "display_name": "Python 3 (ipykernel)",
   "language": "python",
   "name": "python3"
  },
  "language_info": {
   "codemirror_mode": {
    "name": "ipython",
    "version": 3
   },
   "file_extension": ".py",
   "mimetype": "text/x-python",
   "name": "python",
   "nbconvert_exporter": "python",
   "pygments_lexer": "ipython3",
   "version": "3.9.13"
  }
 },
 "nbformat": 4,
 "nbformat_minor": 1
}
