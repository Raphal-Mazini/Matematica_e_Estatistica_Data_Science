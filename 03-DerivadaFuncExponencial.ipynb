{
 "cells": [
  {
   "cell_type": "markdown",
   "metadata": {},
   "source": [
    "# <font color='blue'>Data Science Academy</font>\n",
    "# <font color='blue'>Matemática Para Data Science</font>\n",
    "\n",
    "## <font color='blue'>Derivada da Função Exponencial</font>"
   ]
  },
  {
   "cell_type": "code",
   "execution_count": 1,
   "metadata": {},
   "outputs": [
    {
     "name": "stdout",
     "output_type": "stream",
     "text": [
      "Versão da Linguagem Python Usada Neste Jupyter Notebook: 3.10.9\n"
     ]
    }
   ],
   "source": [
    "# Versão da Linguagem Python\n",
    "# Você pode usar a versão indicada nos vídeos ou a versão abaixo!\n",
    "from platform import python_version\n",
    "print('Versão da Linguagem Python Usada Neste Jupyter Notebook:', python_version())"
   ]
  },
  {
   "cell_type": "code",
   "execution_count": 2,
   "metadata": {},
   "outputs": [],
   "source": [
    "# Para atualizar um pacote, execute o comando abaixo no terminal ou prompt de comando:\n",
    "# pip install -U nome_pacote\n",
    "\n",
    "# Para instalar a versão exata de um pacote, execute o comando abaixo no terminal ou prompt de comando:\n",
    "# !pip install nome_pacote==versão_desejada\n",
    "\n",
    "# Depois de instalar ou atualizar o pacote, reinicie o jupyter notebook.\n",
    "\n",
    "# Instala o pacote watermark. \n",
    "# Esse pacote é usado para gravar as versões de outros pacotes usados neste jupyter notebook.\n",
    "# !pip install -q -U watermark"
   ]
  },
  {
   "cell_type": "markdown",
   "metadata": {},
   "source": [
    "## Derivada da Função Exponencial\n",
    "\n",
    "A função exponencial é uma função particularmente importante e sua derivada tem propriedades notáveis. A função exponencial mais comum é a função e^x, onde e é a constante de Euler, aproximadamente igual a 2.71828.\n",
    "\n",
    "A derivada da função exponencial e^x é única entre todas as funções, pois é a única função que é igual à sua própria derivada. Isso é, a derivada de e^x é simplesmente e^x.\n",
    "\n",
    "Matematicamente, isso é expresso como:\n",
    "\n",
    "(d/dx) e^x = e^x\n",
    "\n",
    "Isso é verdade para qualquer valor de x. O fato de que a função exponencial e^x é a sua própria derivada é uma das razões pelas quais ela é tão útil em muitos campos diferentes da matemática e da ciência.\n",
    "\n",
    "Se tivermos uma função exponencial com uma base diferente, digamos a^x onde a é uma constante positiva e a ≠ 1, a derivada é um pouco diferente:\n",
    "\n",
    "(d/dx) a^x = ln(a) * a^x\n",
    "\n",
    "Onde ln(a) é o logaritmo natural de a. Isso mostra que a taxa de mudança de uma função exponencial depende do valor da base da função exponencial."
   ]
  },
  {
   "cell_type": "code",
   "execution_count": 3,
   "metadata": {},
   "outputs": [
    {
     "name": "stdout",
     "output_type": "stream",
     "text": [
      "A derivada de f é: exp(x)\n"
     ]
    }
   ],
   "source": [
    "from sympy import symbols, diff, exp\n",
    "\n",
    "# Definir a variável\n",
    "x = symbols('x')\n",
    "\n",
    "# Definir a função exponencial\n",
    "f = exp(x)\n",
    "\n",
    "# Calcular a derivada\n",
    "derivada_f = diff(f, x)\n",
    "\n",
    "print(\"A derivada de f é:\", derivada_f)"
   ]
  },
  {
   "cell_type": "code",
   "execution_count": 4,
   "metadata": {},
   "outputs": [
    {
     "name": "stdout",
     "output_type": "stream",
     "text": [
      "A derivada de f no ponto x=2 é aproximadamente: 7.38905609893065\n"
     ]
    }
   ],
   "source": [
    "from sympy import symbols, diff, exp\n",
    "\n",
    "# Definir a variável\n",
    "x = symbols('x')\n",
    "\n",
    "# Definir a função exponencial\n",
    "f = exp(x)\n",
    "\n",
    "# Calcular a derivada\n",
    "derivada_f = diff(f, x)\n",
    "\n",
    "# Substituir x = 2 na função derivada\n",
    "derivada_f_no_ponto = derivada_f.subs(x, 2)\n",
    "\n",
    "# Avaliar a expressão numérica\n",
    "derivada_f_no_ponto_numerica = derivada_f_no_ponto.evalf()\n",
    "\n",
    "print(\"A derivada de f no ponto x=2 é aproximadamente:\", derivada_f_no_ponto_numerica)"
   ]
  },
  {
   "cell_type": "markdown",
   "metadata": {},
   "source": [
    "# Fim"
   ]
  }
 ],
 "metadata": {
  "colab": {
   "authorship_tag": "ABX9TyPCf9qlTghL9GChly72vDLx",
   "include_colab_link": true,
   "mount_file_id": "1pXLpmBpTPTzHKaiOzVGc5gOVld_cVB0v",
   "provenance": []
  },
  "kernelspec": {
   "display_name": "Python 3 (ipykernel)",
   "language": "python",
   "name": "python3"
  },
  "language_info": {
   "codemirror_mode": {
    "name": "ipython",
    "version": 3
   },
   "file_extension": ".py",
   "mimetype": "text/x-python",
   "name": "python",
   "nbconvert_exporter": "python",
   "pygments_lexer": "ipython3",
   "version": "3.10.9"
  }
 },
 "nbformat": 4,
 "nbformat_minor": 1
}
