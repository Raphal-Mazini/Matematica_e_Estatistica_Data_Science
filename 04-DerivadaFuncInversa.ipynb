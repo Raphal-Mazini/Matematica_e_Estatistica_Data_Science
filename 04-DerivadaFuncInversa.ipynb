{
 "cells": [
  {
   "cell_type": "markdown",
   "metadata": {},
   "source": [
    "# <font color='blue'>Data Science Academy</font>\n",
    "# <font color='blue'>Matemática Para Data Science</font>\n",
    "\n",
    "## <font color='blue'>Derivada da Função Inversa</font>"
   ]
  },
  {
   "cell_type": "code",
   "execution_count": 1,
   "metadata": {},
   "outputs": [
    {
     "name": "stdout",
     "output_type": "stream",
     "text": [
      "Versão da Linguagem Python Usada Neste Jupyter Notebook: 3.10.9\n"
     ]
    }
   ],
   "source": [
    "# Versão da Linguagem Python\n",
    "# Você pode usar a versão indicada nos vídeos ou a versão abaixo!\n",
    "from platform import python_version\n",
    "print('Versão da Linguagem Python Usada Neste Jupyter Notebook:', python_version())"
   ]
  },
  {
   "cell_type": "code",
   "execution_count": 2,
   "metadata": {},
   "outputs": [],
   "source": [
    "# Para atualizar um pacote, execute o comando abaixo no terminal ou prompt de comando:\n",
    "# pip install -U nome_pacote\n",
    "\n",
    "# Para instalar a versão exata de um pacote, execute o comando abaixo no terminal ou prompt de comando:\n",
    "# !pip install nome_pacote==versão_desejada\n",
    "\n",
    "# Depois de instalar ou atualizar o pacote, reinicie o jupyter notebook.\n",
    "\n",
    "# Instala o pacote watermark. \n",
    "# Esse pacote é usado para gravar as versões de outros pacotes usados neste jupyter notebook.\n",
    "# !pip install -q -U watermark"
   ]
  },
  {
   "cell_type": "markdown",
   "metadata": {},
   "source": [
    "## Função Inversa e Derivada da Função Inversa\n",
    "\n",
    "A função inversa de uma função f é uma função que \"desfaz\" a ação de f. \n",
    "\n",
    "Isso significa que se você aplicar f e depois sua função inversa, você retornará ao valor original. \n",
    "\n",
    "Matematicamente, isso é representado por f(f^(-1)(x)) = x e f^(-1)(f(x)) = x, onde f^(-1) é a função inversa de f.\n",
    "\n",
    "A derivada da função inversa pode ser encontrada usando a fórmula (f^(-1))'(x) = 1 / f'(f^(-1)(x)), assumindo que f' não é zero.\n",
    "\n",
    "Aqui está um exemplo em Python onde criamos a função e sua inversa, e depois calculamos suas derivadas. Vamos usar a biblioteca sympy para manipulação simbólica:"
   ]
  },
  {
   "cell_type": "code",
   "execution_count": 3,
   "metadata": {},
   "outputs": [
    {
     "name": "stdout",
     "output_type": "stream",
     "text": [
      "f(x) = exp(x)\n",
      "f'(x) = exp(x)\n",
      "f^(-1)(x) = log(x)\n",
      "(f^(-1))'(x) = 1/x\n"
     ]
    }
   ],
   "source": [
    "import sympy as sp\n",
    "\n",
    "# Definir a variável e a função\n",
    "x = sp.symbols('x')\n",
    "f = sp.exp(x)\n",
    "\n",
    "# Calcular a função inversa\n",
    "f_inv = sp.log(x)\n",
    "\n",
    "# Calcular as derivadas\n",
    "f_prime = sp.diff(f, x)\n",
    "f_inv_prime = 1 / f_prime.subs(x, f_inv)\n",
    "\n",
    "# Imprimir as funções e suas derivadas\n",
    "print(\"f(x) =\", f)\n",
    "print(\"f'(x) =\", f_prime)\n",
    "print(\"f^(-1)(x) =\", f_inv)\n",
    "print(\"(f^(-1))'(x) =\", f_inv_prime)"
   ]
  },
  {
   "cell_type": "markdown",
   "metadata": {},
   "source": [
    "# Fim"
   ]
  }
 ],
 "metadata": {
  "colab": {
   "authorship_tag": "ABX9TyPCf9qlTghL9GChly72vDLx",
   "include_colab_link": true,
   "mount_file_id": "1pXLpmBpTPTzHKaiOzVGc5gOVld_cVB0v",
   "provenance": []
  },
  "kernelspec": {
   "display_name": "Python 3 (ipykernel)",
   "language": "python",
   "name": "python3"
  },
  "language_info": {
   "codemirror_mode": {
    "name": "ipython",
    "version": 3
   },
   "file_extension": ".py",
   "mimetype": "text/x-python",
   "name": "python",
   "nbconvert_exporter": "python",
   "pygments_lexer": "ipython3",
   "version": "3.10.9"
  }
 },
 "nbformat": 4,
 "nbformat_minor": 1
}
