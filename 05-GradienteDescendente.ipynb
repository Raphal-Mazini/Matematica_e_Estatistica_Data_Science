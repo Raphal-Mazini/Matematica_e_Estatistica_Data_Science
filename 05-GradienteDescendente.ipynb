{
 "cells": [
  {
   "cell_type": "markdown",
   "metadata": {},
   "source": [
    "# <font color='blue'>Data Science Academy</font>\n",
    "# <font color='blue'>Matemática Para Data Science</font>\n",
    "\n",
    "## <font color='blue'>Gradiente Descendente via Operações Matemáticas com Linguagem Python</font>"
   ]
  },
  {
   "cell_type": "code",
   "execution_count": 1,
   "metadata": {},
   "outputs": [
    {
     "name": "stdout",
     "output_type": "stream",
     "text": [
      "Versão da Linguagem Python Usada Neste Jupyter Notebook: 3.10.9\n"
     ]
    }
   ],
   "source": [
    "# Versão da Linguagem Python\n",
    "# Você pode usar a versão indicada nos vídeos ou a versão abaixo!\n",
    "from platform import python_version\n",
    "print('Versão da Linguagem Python Usada Neste Jupyter Notebook:', python_version())"
   ]
  },
  {
   "cell_type": "code",
   "execution_count": 2,
   "metadata": {},
   "outputs": [],
   "source": [
    "# Para atualizar um pacote, execute o comando abaixo no terminal ou prompt de comando:\n",
    "# pip install -U nome_pacote\n",
    "\n",
    "# Para instalar a versão exata de um pacote, execute o comando abaixo no terminal ou prompt de comando:\n",
    "# !pip install nome_pacote==versão_desejada\n",
    "\n",
    "# Depois de instalar ou atualizar o pacote, reinicie o jupyter notebook.\n",
    "\n",
    "# Instala o pacote watermark. \n",
    "# Esse pacote é usado para gravar as versões de outros pacotes usados neste jupyter notebook.\n",
    "# !pip install -q -U watermark"
   ]
  },
  {
   "cell_type": "markdown",
   "metadata": {},
   "source": [
    "## Gradiente Descendente via Operações Matemáticas com Linguagem Python\n",
    "\n",
    "Uma aplicação comum de derivadas em Data Science é na implementação do algoritmo de gradiente descendente, usado para otimizar funções de custo em modelos de aprendizado de máquina, como regressão linear ou redes neurais.\n",
    "\n",
    "Aqui está um exemplo de como isso pode ser feito em Python para a tarefa de regressão linear. Para simplificar, vamos considerar uma regressão linear simples com apenas uma variável de entrada."
   ]
  },
  {
   "cell_type": "markdown",
   "metadata": {},
   "source": [
    "No exemplo abaixo, o código cria um conjunto de dados aleatório, inicializa os parâmetros da regressão linear de forma aleatória (a variável theta), e então executa o algoritmo de gradiente descendente por um número fixo de iterações.\n",
    "\n",
    "A cada iteração, o algoritmo calcula o gradiente da função de custo em relação aos parâmetros (gradients) e, em seguida, atualiza os parâmetros na direção oposta ao gradiente (isso é o que a linha theta = theta - lr * gradients faz). O tamanho do passo é determinado pela taxa de aprendizado (lr).\n",
    "\n",
    "Ao final do processo, os parâmetros da regressão linear (ou seja, a inclinação e o intercepto) são armazenados na variável theta. Esses parâmetros minimizam a função de custo e, portanto, representam a melhor linha de ajuste aos dados."
   ]
  },
  {
   "cell_type": "markdown",
   "metadata": {},
   "source": [
    "Considere que X é o diâmetro de uma Pizza e y a gorjeta dada por um cliente. Conseguimos prever a gorjeta com base no diâmetro da pizza?\n",
    "\n",
    "Vamos definir uma relação linear entre X e y:\n",
    "\n",
    "y = coef1 + (coef2 * X)"
   ]
  },
  {
   "cell_type": "code",
   "execution_count": 3,
   "metadata": {},
   "outputs": [],
   "source": [
    "import numpy as np"
   ]
  },
  {
   "cell_type": "code",
   "execution_count": 4,
   "metadata": {},
   "outputs": [],
   "source": [
    "# Criamos um conjunto de dados sintéticos\n",
    "X = 2 * np.random.rand(100,1)\n",
    "y = 4 + 3 * X + np.random.randn(100,1)"
   ]
  },
  {
   "cell_type": "code",
   "execution_count": 5,
   "metadata": {},
   "outputs": [
    {
     "name": "stdout",
     "output_type": "stream",
     "text": [
      "[[0.42728211]\n",
      " [1.72481081]\n",
      " [1.51984527]\n",
      " [1.41047183]\n",
      " [0.05043542]\n",
      " [0.65578863]\n",
      " [1.74531661]\n",
      " [0.24084422]\n",
      " [1.9774167 ]\n",
      " [1.68109796]\n",
      " [1.46565453]\n",
      " [1.47958713]\n",
      " [1.43444107]\n",
      " [1.3341792 ]\n",
      " [0.90668954]\n",
      " [1.5422992 ]\n",
      " [1.56792642]\n",
      " [0.59570235]\n",
      " [1.21102974]\n",
      " [0.03548217]\n",
      " [0.29321916]\n",
      " [1.11096311]\n",
      " [1.56898809]\n",
      " [0.99777606]\n",
      " [1.1529599 ]\n",
      " [1.8802501 ]\n",
      " [1.93081468]\n",
      " [0.73119414]\n",
      " [1.52618574]\n",
      " [0.18323468]\n",
      " [0.02606663]\n",
      " [0.32652865]\n",
      " [0.97850069]\n",
      " [0.41324371]\n",
      " [0.58554977]\n",
      " [1.90782525]\n",
      " [1.23656386]\n",
      " [0.72503167]\n",
      " [0.26415521]\n",
      " [1.43633335]\n",
      " [0.79743837]\n",
      " [0.55313084]\n",
      " [0.06362899]\n",
      " [0.56188127]\n",
      " [0.21546969]\n",
      " [0.93898726]\n",
      " [1.07016218]\n",
      " [0.04767443]\n",
      " [0.0989082 ]\n",
      " [1.27303571]\n",
      " [0.28243613]\n",
      " [0.83019359]\n",
      " [1.71007369]\n",
      " [0.71838136]\n",
      " [0.40888507]\n",
      " [1.15793426]\n",
      " [1.92077572]\n",
      " [1.55977324]\n",
      " [0.63409592]\n",
      " [0.40143784]\n",
      " [0.81662713]\n",
      " [1.07619169]\n",
      " [1.57778886]\n",
      " [0.25678218]\n",
      " [1.93012427]\n",
      " [0.31959918]\n",
      " [0.14440925]\n",
      " [1.32985234]\n",
      " [0.76256856]\n",
      " [0.03595342]\n",
      " [1.30363342]\n",
      " [1.11595812]\n",
      " [1.33278794]\n",
      " [1.53920796]\n",
      " [1.99573876]\n",
      " [0.62672502]\n",
      " [1.96100081]\n",
      " [0.65342205]\n",
      " [1.01242457]\n",
      " [0.84569659]\n",
      " [0.46395196]\n",
      " [0.86485597]\n",
      " [1.64546704]\n",
      " [1.7626502 ]\n",
      " [1.16603427]\n",
      " [1.39953061]\n",
      " [1.59398425]\n",
      " [1.45942841]\n",
      " [0.88252852]\n",
      " [1.62176646]\n",
      " [1.16765736]\n",
      " [0.56978427]\n",
      " [0.20358564]\n",
      " [1.88126507]\n",
      " [1.42849633]\n",
      " [0.42454499]\n",
      " [1.98762953]\n",
      " [1.12582627]\n",
      " [1.71744643]\n",
      " [1.61855906]]\n"
     ]
    }
   ],
   "source": [
    "print(X)"
   ]
  },
  {
   "cell_type": "code",
   "execution_count": 6,
   "metadata": {},
   "outputs": [
    {
     "name": "stdout",
     "output_type": "stream",
     "text": [
      "[[ 5.68141556]\n",
      " [ 8.68311487]\n",
      " [ 9.50338017]\n",
      " [ 9.49743541]\n",
      " [ 2.84749445]\n",
      " [ 6.09201424]\n",
      " [10.33301955]\n",
      " [ 3.00721251]\n",
      " [ 9.04647453]\n",
      " [ 9.12534529]\n",
      " [ 7.87581536]\n",
      " [ 9.45336858]\n",
      " [ 7.41847678]\n",
      " [ 6.70779543]\n",
      " [ 7.04862609]\n",
      " [ 8.40270727]\n",
      " [ 9.22423349]\n",
      " [ 4.78133001]\n",
      " [ 7.32465399]\n",
      " [ 4.57947188]\n",
      " [ 5.24630073]\n",
      " [ 6.95832338]\n",
      " [ 8.93602891]\n",
      " [ 7.74259844]\n",
      " [ 7.98426087]\n",
      " [ 9.07881015]\n",
      " [ 9.98850006]\n",
      " [ 6.05555078]\n",
      " [ 7.24849148]\n",
      " [ 4.739101  ]\n",
      " [ 4.68577932]\n",
      " [ 7.28795611]\n",
      " [ 8.24839493]\n",
      " [ 6.97886206]\n",
      " [ 5.04283623]\n",
      " [ 9.50645764]\n",
      " [ 7.52005194]\n",
      " [ 7.26821797]\n",
      " [ 4.24931551]\n",
      " [ 9.15532832]\n",
      " [ 6.41937013]\n",
      " [ 5.93139554]\n",
      " [ 3.04278492]\n",
      " [ 7.10226835]\n",
      " [ 7.17033405]\n",
      " [ 6.51405555]\n",
      " [ 6.13009109]\n",
      " [ 6.57870178]\n",
      " [ 3.67873021]\n",
      " [ 8.02264835]\n",
      " [ 3.45371568]\n",
      " [ 7.77055384]\n",
      " [ 9.17561297]\n",
      " [ 6.20885739]\n",
      " [ 5.7722786 ]\n",
      " [ 7.84310654]\n",
      " [10.06293971]\n",
      " [ 9.89981578]\n",
      " [ 6.49122417]\n",
      " [ 6.66074994]\n",
      " [ 7.7206878 ]\n",
      " [ 8.01117924]\n",
      " [ 9.97740048]\n",
      " [ 4.20831595]\n",
      " [ 8.8666498 ]\n",
      " [ 4.3367304 ]\n",
      " [ 4.11634285]\n",
      " [ 8.28924986]\n",
      " [ 5.69356596]\n",
      " [ 2.72963544]\n",
      " [ 8.5718258 ]\n",
      " [ 6.30064903]\n",
      " [ 7.7122729 ]\n",
      " [ 8.51802535]\n",
      " [ 9.41943752]\n",
      " [ 5.35145564]\n",
      " [11.33321133]\n",
      " [ 5.0571249 ]\n",
      " [ 7.45782113]\n",
      " [ 4.66726634]\n",
      " [ 4.83744236]\n",
      " [ 6.57356517]\n",
      " [11.44951681]\n",
      " [10.23293689]\n",
      " [ 8.21573607]\n",
      " [ 8.12651007]\n",
      " [ 9.63486996]\n",
      " [ 7.90505614]\n",
      " [ 5.21776367]\n",
      " [ 8.85849163]\n",
      " [ 7.15481477]\n",
      " [ 4.64719096]\n",
      " [ 3.87164757]\n",
      " [ 8.65593204]\n",
      " [ 8.81756445]\n",
      " [ 5.36647721]\n",
      " [ 9.07935233]\n",
      " [ 8.31287385]\n",
      " [ 8.99567913]\n",
      " [ 7.79756283]]\n"
     ]
    }
   ],
   "source": [
    "print(y)"
   ]
  },
  {
   "cell_type": "code",
   "execution_count": 7,
   "metadata": {},
   "outputs": [],
   "source": [
    "# Taxa de aprendizado\n",
    "lr = 0.1"
   ]
  },
  {
   "cell_type": "code",
   "execution_count": 8,
   "metadata": {},
   "outputs": [],
   "source": [
    "# Inicialização dos parâmetros\n",
    "n_iterations = 1000\n",
    "m = 100\n",
    "theta = np.random.randn(2,1)"
   ]
  },
  {
   "cell_type": "code",
   "execution_count": 9,
   "metadata": {},
   "outputs": [
    {
     "data": {
      "text/plain": [
       "array([[ 0.55903189],\n",
       "       [-0.34361878]])"
      ]
     },
     "execution_count": 9,
     "metadata": {},
     "output_type": "execute_result"
    }
   ],
   "source": [
    "theta"
   ]
  },
  {
   "cell_type": "code",
   "execution_count": 10,
   "metadata": {},
   "outputs": [],
   "source": [
    "# Adiciona coluna de 1s a X\n",
    "X_b = np.c_[np.ones((m, 1)), X]"
   ]
  },
  {
   "cell_type": "code",
   "execution_count": 11,
   "metadata": {},
   "outputs": [
    {
     "data": {
      "text/plain": [
       "array([[1.        , 0.42728211],\n",
       "       [1.        , 1.72481081],\n",
       "       [1.        , 1.51984527],\n",
       "       [1.        , 1.41047183],\n",
       "       [1.        , 0.05043542],\n",
       "       [1.        , 0.65578863],\n",
       "       [1.        , 1.74531661],\n",
       "       [1.        , 0.24084422],\n",
       "       [1.        , 1.9774167 ],\n",
       "       [1.        , 1.68109796],\n",
       "       [1.        , 1.46565453],\n",
       "       [1.        , 1.47958713],\n",
       "       [1.        , 1.43444107],\n",
       "       [1.        , 1.3341792 ],\n",
       "       [1.        , 0.90668954],\n",
       "       [1.        , 1.5422992 ],\n",
       "       [1.        , 1.56792642],\n",
       "       [1.        , 0.59570235],\n",
       "       [1.        , 1.21102974],\n",
       "       [1.        , 0.03548217],\n",
       "       [1.        , 0.29321916],\n",
       "       [1.        , 1.11096311],\n",
       "       [1.        , 1.56898809],\n",
       "       [1.        , 0.99777606],\n",
       "       [1.        , 1.1529599 ],\n",
       "       [1.        , 1.8802501 ],\n",
       "       [1.        , 1.93081468],\n",
       "       [1.        , 0.73119414],\n",
       "       [1.        , 1.52618574],\n",
       "       [1.        , 0.18323468],\n",
       "       [1.        , 0.02606663],\n",
       "       [1.        , 0.32652865],\n",
       "       [1.        , 0.97850069],\n",
       "       [1.        , 0.41324371],\n",
       "       [1.        , 0.58554977],\n",
       "       [1.        , 1.90782525],\n",
       "       [1.        , 1.23656386],\n",
       "       [1.        , 0.72503167],\n",
       "       [1.        , 0.26415521],\n",
       "       [1.        , 1.43633335],\n",
       "       [1.        , 0.79743837],\n",
       "       [1.        , 0.55313084],\n",
       "       [1.        , 0.06362899],\n",
       "       [1.        , 0.56188127],\n",
       "       [1.        , 0.21546969],\n",
       "       [1.        , 0.93898726],\n",
       "       [1.        , 1.07016218],\n",
       "       [1.        , 0.04767443],\n",
       "       [1.        , 0.0989082 ],\n",
       "       [1.        , 1.27303571],\n",
       "       [1.        , 0.28243613],\n",
       "       [1.        , 0.83019359],\n",
       "       [1.        , 1.71007369],\n",
       "       [1.        , 0.71838136],\n",
       "       [1.        , 0.40888507],\n",
       "       [1.        , 1.15793426],\n",
       "       [1.        , 1.92077572],\n",
       "       [1.        , 1.55977324],\n",
       "       [1.        , 0.63409592],\n",
       "       [1.        , 0.40143784],\n",
       "       [1.        , 0.81662713],\n",
       "       [1.        , 1.07619169],\n",
       "       [1.        , 1.57778886],\n",
       "       [1.        , 0.25678218],\n",
       "       [1.        , 1.93012427],\n",
       "       [1.        , 0.31959918],\n",
       "       [1.        , 0.14440925],\n",
       "       [1.        , 1.32985234],\n",
       "       [1.        , 0.76256856],\n",
       "       [1.        , 0.03595342],\n",
       "       [1.        , 1.30363342],\n",
       "       [1.        , 1.11595812],\n",
       "       [1.        , 1.33278794],\n",
       "       [1.        , 1.53920796],\n",
       "       [1.        , 1.99573876],\n",
       "       [1.        , 0.62672502],\n",
       "       [1.        , 1.96100081],\n",
       "       [1.        , 0.65342205],\n",
       "       [1.        , 1.01242457],\n",
       "       [1.        , 0.84569659],\n",
       "       [1.        , 0.46395196],\n",
       "       [1.        , 0.86485597],\n",
       "       [1.        , 1.64546704],\n",
       "       [1.        , 1.7626502 ],\n",
       "       [1.        , 1.16603427],\n",
       "       [1.        , 1.39953061],\n",
       "       [1.        , 1.59398425],\n",
       "       [1.        , 1.45942841],\n",
       "       [1.        , 0.88252852],\n",
       "       [1.        , 1.62176646],\n",
       "       [1.        , 1.16765736],\n",
       "       [1.        , 0.56978427],\n",
       "       [1.        , 0.20358564],\n",
       "       [1.        , 1.88126507],\n",
       "       [1.        , 1.42849633],\n",
       "       [1.        , 0.42454499],\n",
       "       [1.        , 1.98762953],\n",
       "       [1.        , 1.12582627],\n",
       "       [1.        , 1.71744643],\n",
       "       [1.        , 1.61855906]])"
      ]
     },
     "execution_count": 11,
     "metadata": {},
     "output_type": "execute_result"
    }
   ],
   "source": [
    "X_b"
   ]
  },
  {
   "cell_type": "code",
   "execution_count": 12,
   "metadata": {},
   "outputs": [],
   "source": [
    "# Loop de treino\n",
    "for iteration in range(n_iterations):\n",
    "    \n",
    "    # Calcula o gradiente (derivada parcial)\n",
    "    gradients = 2/m * X_b.T.dot(X_b.dot(theta) - y)\n",
    "    \n",
    "    # Usa os gradientes para atualizar os coeficientes\n",
    "    theta = theta - lr * gradients"
   ]
  },
  {
   "cell_type": "code",
   "execution_count": 13,
   "metadata": {},
   "outputs": [
    {
     "name": "stdout",
     "output_type": "stream",
     "text": [
      "[[-4.36983782e-15]\n",
      " [ 3.27737837e-15]]\n"
     ]
    }
   ],
   "source": [
    "print(gradients)"
   ]
  },
  {
   "cell_type": "code",
   "execution_count": 14,
   "metadata": {},
   "outputs": [
    {
     "name": "stdout",
     "output_type": "stream",
     "text": [
      "[[4.03716125]\n",
      " [3.03310862]]\n"
     ]
    }
   ],
   "source": [
    "print(theta)"
   ]
  },
  {
   "cell_type": "code",
   "execution_count": 15,
   "metadata": {},
   "outputs": [
    {
     "data": {
      "text/plain": [
       "array([4.03716125])"
      ]
     },
     "execution_count": 15,
     "metadata": {},
     "output_type": "execute_result"
    }
   ],
   "source": [
    "theta[0]"
   ]
  },
  {
   "cell_type": "code",
   "execution_count": 16,
   "metadata": {},
   "outputs": [
    {
     "data": {
      "text/plain": [
       "array([3.03310862])"
      ]
     },
     "execution_count": 16,
     "metadata": {},
     "output_type": "execute_result"
    }
   ],
   "source": [
    "theta[1]"
   ]
  },
  {
   "cell_type": "markdown",
   "metadata": {},
   "source": [
    "y = coef1 + (coef2 * X)"
   ]
  },
  {
   "cell_type": "markdown",
   "metadata": {},
   "source": [
    "Valor qualquer de X: 18"
   ]
  },
  {
   "cell_type": "code",
   "execution_count": 17,
   "metadata": {},
   "outputs": [],
   "source": [
    "y = theta[0] + (theta[1] * 15)"
   ]
  },
  {
   "cell_type": "code",
   "execution_count": 18,
   "metadata": {},
   "outputs": [
    {
     "name": "stdout",
     "output_type": "stream",
     "text": [
      "[49.53379056]\n"
     ]
    }
   ],
   "source": [
    "print(y)"
   ]
  },
  {
   "cell_type": "markdown",
   "metadata": {},
   "source": [
    "# Fim"
   ]
  }
 ],
 "metadata": {
  "colab": {
   "authorship_tag": "ABX9TyPCf9qlTghL9GChly72vDLx",
   "include_colab_link": true,
   "mount_file_id": "1pXLpmBpTPTzHKaiOzVGc5gOVld_cVB0v",
   "provenance": []
  },
  "kernelspec": {
   "display_name": "Python 3 (ipykernel)",
   "language": "python",
   "name": "python3"
  },
  "language_info": {
   "codemirror_mode": {
    "name": "ipython",
    "version": 3
   },
   "file_extension": ".py",
   "mimetype": "text/x-python",
   "name": "python",
   "nbconvert_exporter": "python",
   "pygments_lexer": "ipython3",
   "version": "3.10.9"
  }
 },
 "nbformat": 4,
 "nbformat_minor": 1
}
