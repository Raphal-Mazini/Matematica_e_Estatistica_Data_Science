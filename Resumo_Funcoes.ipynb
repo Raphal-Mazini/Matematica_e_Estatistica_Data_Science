{
 "cells": [
  {
   "cell_type": "markdown",
   "id": "5d5b33d1",
   "metadata": {},
   "source": [
    "# <center> <font color='blue'>Matemática Para Data Science</font> </center>\n",
    "\n",
    "##  Funções Elementares e Suas Aplicações\n",
    "\n",
    "### Função Quadrática\n",
    "\n",
    "A ``função quadrática``, também conhecida como ``função do segundo grau``, é uma **função polinomial de grau 2**. Ela pode ser expressa pela seguinte fórmula geral:\n",
    "\n",
    "``f(x) = ax^2 + bx + c``\n",
    "\n",
    "Nesta fórmula, ``x`` é a **variável independente** e ``a``, ``b`` e ``c`` são **constantes**, com ``a ≠ 0`` (se ``a = 0``, a **função deixa de ser quadrática e passa a ser uma função linear**). A ``função quadrática`` é caracterizada por ter um **gráfico** chamado ``parábola``, que pode ser voltado para cima (quando ``a > 0``) ou para baixo (quando ``a < 0``)."
   ]
  },
  {
   "cell_type": "markdown",
   "id": "cd158d34",
   "metadata": {},
   "source": [
    "**1º Exemplo de função python para calcular a função quadratica**"
   ]
  },
  {
   "cell_type": "code",
   "execution_count": 4,
   "id": "0c66b435",
   "metadata": {},
   "outputs": [],
   "source": [
    "# 1º Exemplo de função python para calcular a função quadratica\n",
    "def funcao_quadratica(a, b, c, x):\n",
    "    return a*x**2 + b*x + c    "
   ]
  },
  {
   "cell_type": "code",
   "execution_count": 5,
   "id": "46bb9ebc",
   "metadata": {},
   "outputs": [],
   "source": [
    "# Coeficientes da função quadrática: ax^2 + bx + c\n",
    "a = 2\n",
    "b = -3\n",
    "c = 1"
   ]
  },
  {
   "cell_type": "code",
   "execution_count": 7,
   "id": "378a05d6",
   "metadata": {},
   "outputs": [],
   "source": [
    "# Valor de x para calcular a função quadrática\n",
    "x = 4"
   ]
  },
  {
   "cell_type": "code",
   "execution_count": 8,
   "id": "0fb9917a",
   "metadata": {},
   "outputs": [],
   "source": [
    "# Executa a função\n",
    "resultado = funcao_quadratica(a, b, c, x)"
   ]
  },
  {
   "cell_type": "code",
   "execution_count": 12,
   "id": "711430d6",
   "metadata": {},
   "outputs": [
    {
     "name": "stdout",
     "output_type": "stream",
     "text": [
      "O resultado da função quadrática 2x^2 + -3x + 1 = 21\n",
      "A Função Quadratica com as constantes 2, -3 e 1 tem como resultado 21 para a variável independente x = 4\n"
     ]
    }
   ],
   "source": [
    "print(f\"O resultado da função quadrática {a}x^2 + {b}x + {c} = {resultado}\")\n",
    "print(f'A Função Quadratica com as constantes {a}, {b} e {c} \\\n",
    "tem como resultado {resultado} para a variável independente x = {x}')"
   ]
  },
  {
   "cell_type": "markdown",
   "id": "dd7e0b3e",
   "metadata": {},
   "source": [
    "**2º Exemplo de função python para calcular a função quadratica**"
   ]
  },
  {
   "cell_type": "code",
   "execution_count": 66,
   "id": "2b80517f",
   "metadata": {},
   "outputs": [],
   "source": [
    "def funcao_quadratica2(a,b,c,x):\n",
    "    a = int(input('Digite a Constate a: '))\n",
    "    b = int(input('Digite a Constate b: '))\n",
    "    c = int(input('Digite a Constate c: '))\n",
    "    x = int(input('Digite a Variavél Independente X: '))\n",
    "    for i in range(5):\n",
    "        result = a*x**2 + b*x + c \n",
    "    return print(f'O Resultado da Função f({x}) = {a}.({x}^2) + ({b}).({x}) + {c} = {result}')"
   ]
  },
  {
   "cell_type": "code",
   "execution_count": 67,
   "id": "51ad82ab",
   "metadata": {},
   "outputs": [
    {
     "name": "stdout",
     "output_type": "stream",
     "text": [
      "Digite a Constate a: 2\n",
      "Digite a Constate b: -3\n",
      "Digite a Constate c: 1\n",
      "Digite a Variavél Independente X: 4\n",
      "O Resultado da Função f(4) = 2.(4^2) + (-3).(4) + 1 = 21\n"
     ]
    }
   ],
   "source": [
    "funcao_quadratica2(a,b,c,x)"
   ]
  },
  {
   "cell_type": "markdown",
   "id": "5d5ffbfb",
   "metadata": {},
   "source": [
    "## Função Polinomial\n",
    "\n",
    "Uma ``função polinomial`` é um tipo de função matemática que pode ser representada por uma expressão polinomial, ou seja, **uma soma de termos envolvendo potências inteiras e não negativas da variável independente** (geralmente denotada por ``x``). A fórmula geral de uma função polinomial de grau n é:\n",
    "\n",
    "``f(x) = a_nx^n + a_(n-1)x^(n-1) + ... + a_2x^2 + a_1x + a_0``\n",
    "\n",
    "Nesta fórmula, ``x`` é a **variável independente**, ``n`` é um **número inteiro não negativo** que representa o grau do polinômio e ``a_0, a_1, a_2, ..., a_n`` são **constantes**, chamadas de **coeficientes do polinômio**. O ``coeficiente a_n`` é chamado de **coeficiente líder e não pode ser zero**; caso contrário, o grau do polinômio seria menor."
   ]
  },
  {
   "cell_type": "code",
   "execution_count": 68,
   "id": "307f2791",
   "metadata": {},
   "outputs": [],
   "source": [
    "# Criar a função\n",
    "def funcao_polinomial(coeficientes, x):\n",
    "    resultado = 0\n",
    "    for i, coeficiente in enumerate(coeficientes):\n",
    "        resultado += coeficiente * x**i\n",
    "    return resultado"
   ]
  },
  {
   "cell_type": "code",
   "execution_count": 69,
   "id": "e839c50b",
   "metadata": {},
   "outputs": [],
   "source": [
    "# Coeficientes da função polinomial: a0 + a1x + a2x^2 + a3x^3 + ...\n",
    "coeficientes = [3, -2, 1, 4]  # Isso representa a função 3 - 2x + x^2 + 4x^3"
   ]
  },
  {
   "cell_type": "code",
   "execution_count": 70,
   "id": "bd5851d2",
   "metadata": {},
   "outputs": [],
   "source": [
    "# Valor de x para calcular a função polinomial\n",
    "x = 2"
   ]
  },
  {
   "cell_type": "code",
   "execution_count": 71,
   "id": "0d3c781a",
   "metadata": {},
   "outputs": [],
   "source": [
    "# Executa a função\n",
    "resultado = funcao_polinomial(coeficientes, x)"
   ]
  },
  {
   "cell_type": "code",
   "execution_count": 72,
   "id": "8e27e834",
   "metadata": {},
   "outputs": [
    {
     "name": "stdout",
     "output_type": "stream",
     "text": [
      "O resultado da função polinomial para x = 2 é: 35\n"
     ]
    }
   ],
   "source": [
    "print(f\"O resultado da função polinomial para x = {x} é: {resultado}\")"
   ]
  },
  {
   "cell_type": "markdown",
   "id": "9a83bb10",
   "metadata": {},
   "source": [
    "## Função Racional\n",
    "\n",
    "Uma ``função racional`` é uma função matemática que pode ser representada por uma **razão de dois polinômios**. A forma geral de uma função racional é:\n",
    "\n",
    "``f(x) = P(x) / Q(x)``\n",
    "\n",
    "Aqui, ``P(x)`` e ``Q(x)`` são polinômios em **x**, e ``Q(x)`` não pode ser igual a zero **(Q(x) ≠ 0)** para evitar divisão por zero.\n",
    "\n",
    "As ``funções racionais`` podem ter várias características interessantes, como assíntotas verticais, horizontais ou oblíquas, pontos de inflexão, máximos e mínimos locais e regiões onde a função não está definida devido à divisão por zero.\n",
    "\n",
    "``Assíntotas verticais`` ocorrem quando ``Q(x) = 0``, ou seja, quando o **denominador da função racional se anula**. Isso significa que, à medida que ``x`` se aproxima do valor que torna ``Q(x)`` igual a zero, a função ``f(x)`` tende a **infinito ou a menos infinito**.\n",
    "\n",
    "``Assíntotas horizontais`` são **retas horizontais paralelas ao eixo** ``x``, para as quais a função ``f(x)`` se aproxima quando ``x`` tende a **infinito ou menos infinito**. \n",
    "\n",
    "``Assíntotas oblíquas`` são retas inclinadas que a função ``f(x)`` se aproxima quando ``x`` tende a **infinito ou menos infinito**."
   ]
  },
  {
   "cell_type": "code",
   "execution_count": 73,
   "id": "9d5e10a7",
   "metadata": {},
   "outputs": [],
   "source": [
    "# Criar a função racional\n",
    "def funcao_racional(numerador, denominador, x):\n",
    "    return numerador(x) / denominador(x)"
   ]
  },
  {
   "cell_type": "code",
   "execution_count": 74,
   "id": "636af8b6",
   "metadata": {},
   "outputs": [],
   "source": [
    "# Criar a função para o polinômio\n",
    "def polinomio(coeficientes, x):\n",
    "    resultado = 0\n",
    "    for i, coeficiente in enumerate(coeficientes):\n",
    "        resultado += coeficiente * x**i\n",
    "    return resultado"
   ]
  },
  {
   "cell_type": "code",
   "execution_count": 76,
   "id": "cd483849",
   "metadata": {},
   "outputs": [],
   "source": [
    "# Coeficientes dos polinômios do numerador e denominador\n",
    "coef_numerador = [1, -2]\n",
    "coef_denominador = [1, 1]"
   ]
  },
  {
   "cell_type": "code",
   "execution_count": 77,
   "id": "1d5badfb",
   "metadata": {},
   "outputs": [],
   "source": [
    "# Funções do numerador e denominador\n",
    "numerador = lambda x: polinomio(coef_numerador, x)\n",
    "denominador = lambda x: polinomio(coef_denominador, x)"
   ]
  },
  {
   "cell_type": "code",
   "execution_count": 78,
   "id": "610d624d",
   "metadata": {},
   "outputs": [],
   "source": [
    "# Valor de x para calcular a função racional\n",
    "x = 3"
   ]
  },
  {
   "cell_type": "code",
   "execution_count": 79,
   "id": "aaea8265",
   "metadata": {},
   "outputs": [],
   "source": [
    "# Executa a função\n",
    "resultado = funcao_racional(numerador, denominador, x)"
   ]
  },
  {
   "cell_type": "code",
   "execution_count": 80,
   "id": "7a02d97e",
   "metadata": {},
   "outputs": [
    {
     "name": "stdout",
     "output_type": "stream",
     "text": [
      "O resultado da função racional para x = 3 é: -1.25\n"
     ]
    }
   ],
   "source": [
    "print(f\"O resultado da função racional para x = {x} é: {resultado}\")"
   ]
  },
  {
   "cell_type": "markdown",
   "id": "0e76ac97",
   "metadata": {},
   "source": [
    "## Funções Trigonométricas\n",
    "\n",
    "As ``funções trigonométricas`` são funções matemáticas fundamentais que estão relacionadas aos **ângulos e às proporções** dos lados do triângulos retângulos. Elas desempenham um papel essencial na matemática, bem como em áreas como física, engenharia, geometria, astronomia e análise de sinais.\n",
    "\n",
    "As **seis funções trigonométricas** básicas são:\n",
    "\n",
    "- Seno (sin): sin(θ) = lado oposto / hipotenusa\n",
    "- Cosseno (cos): cos(θ) = lado adjacente / hipotenusa\n",
    "- Tangente (tan): tan(θ) = lado oposto / lado adjacente = sin(θ) / cos(θ)\n",
    "- Co-seno (csc ou cosec): csc(θ) = 1 / sin(θ) = hipotenusa / lado oposto\n",
    "- Secante (sec): sec(θ) = 1 / cos(θ) = hipotenusa / lado adjacente\n",
    "- Cotangente (cot): cot(θ) = 1 / tan(θ) = lado adjacente / lado oposto = cos(θ) / sin(θ)\n",
    "\n",
    "Essas funções são definidas para **todos os ângulos reais** ``θ``e possuem várias propriedades importantes, como **periodicidade**, **simetria** e **identidades trigonométricas**. Por exemplo, as funções ``seno`` e ``cosseno`` são **periódicas**, com período de ``2π`` (em radianos) ou ``360°`` (em graus), o que significa que seus valores se repetem a cada intervalo de ``2π`` ou ``360°``.\n",
    "\n",
    "As ``funções trigonométricas`` também podem ser estendidas para um contexto mais amplo, como o plano complexo, usando a fórmula de Euler:\n",
    "\n",
    "``e^(iθ) = cos(θ) + i sin(θ)``\n",
    "\n",
    "Onde e é a base do logaritmo natural, i é a unidade imaginária e θ é um ângulo em radianos.\n",
    "\n",
    "As ``funções trigonométricas`` são fundamentais para resolver problemas envolvendo triângulos, analisar e modelar fenômenos periódicos (como **ondas e oscilações**), e em muitos outros aspectos da matemática e da ciência aplicada.."
   ]
  },
  {
   "cell_type": "code",
   "execution_count": 103,
   "id": "334828b7",
   "metadata": {},
   "outputs": [],
   "source": [
    "import math\n",
    "\n",
    "# Cria a função\n",
    "def altura_triangulo_retangulo(base, angulo_graus):\n",
    "    \n",
    "    # Converte o ângulo de graus para radianos\n",
    "    angulo_radianos = math.radians(angulo_graus)\n",
    "    \n",
    "    # Calcula a altura usando a função seno\n",
    "    altura = base * math.sin(angulo_radianos)\n",
    "    \n",
    "    return altura"
   ]
  },
  {
   "cell_type": "code",
   "execution_count": 104,
   "id": "b777d4aa",
   "metadata": {},
   "outputs": [],
   "source": [
    "# Exemplo de uso das funções trigonométricas\n",
    "base = 5\n",
    "angulo_graus = 30"
   ]
  },
  {
   "cell_type": "code",
   "execution_count": 105,
   "id": "d31f441a",
   "metadata": {},
   "outputs": [],
   "source": [
    "# Executa a função\n",
    "altura = altura_triangulo_retangulo(base, angulo_graus)"
   ]
  },
  {
   "cell_type": "code",
   "execution_count": 106,
   "id": "8074b7d7",
   "metadata": {},
   "outputs": [
    {
     "name": "stdout",
     "output_type": "stream",
     "text": [
      "A altura do triângulo retângulo com base 5 e ângulo 30 graus é: 2.50\n"
     ]
    }
   ],
   "source": [
    "print(f\"A altura do triângulo retângulo com base {base} e ângulo {angulo_graus} graus é: {altura:.2f}\")"
   ]
  },
  {
   "cell_type": "markdown",
   "id": "7384b505",
   "metadata": {},
   "source": [
    "## Caso de Uso em Data Science\n",
    "\n",
    "Uma função polinomial pode ser usada em Data Science para ajustar um modelo aos dados e fazer previsões. Vamos criar um exemplo em Python usando a biblioteca scikit-learn para ajustar um modelo a um conjunto de dados fictício."
   ]
  },
  {
   "cell_type": "code",
   "execution_count": 107,
   "id": "edc444be",
   "metadata": {},
   "outputs": [],
   "source": [
    "# Imports\n",
    "import sklearn\n",
    "import numpy as np\n",
    "import matplotlib.pyplot as plt\n",
    "from sklearn.linear_model import LinearRegression\n",
    "from sklearn.preprocessing import PolynomialFeatures\n",
    "from sklearn.metrics import mean_squared_error"
   ]
  },
  {
   "cell_type": "code",
   "execution_count": 108,
   "id": "b086ad42",
   "metadata": {},
   "outputs": [],
   "source": [
    "# Dados fictícios\n",
    "X = np.array([1, 2, 3, 4, 5, 6, 7, 8, 9]).reshape(-1, 1)\n",
    "y = np.array([2, 5, 9, 16, 28, 35, 49, 62, 87])"
   ]
  },
  {
   "cell_type": "code",
   "execution_count": 109,
   "id": "e48489de",
   "metadata": {},
   "outputs": [
    {
     "name": "stdout",
     "output_type": "stream",
     "text": [
      "[[1]\n",
      " [2]\n",
      " [3]\n",
      " [4]\n",
      " [5]\n",
      " [6]\n",
      " [7]\n",
      " [8]\n",
      " [9]]\n"
     ]
    }
   ],
   "source": [
    "print(X)"
   ]
  },
  {
   "cell_type": "code",
   "execution_count": 110,
   "id": "745cc019",
   "metadata": {},
   "outputs": [
    {
     "name": "stdout",
     "output_type": "stream",
     "text": [
      "[ 2  5  9 16 28 35 49 62 87]\n"
     ]
    }
   ],
   "source": [
    "print(y)"
   ]
  },
  {
   "cell_type": "code",
   "execution_count": 111,
   "id": "a06eb7df",
   "metadata": {},
   "outputs": [],
   "source": [
    "# Transforma os recursos em uma matriz de recursos polinomiais\n",
    "poly_features = PolynomialFeatures(degree = 2)\n",
    "X_poly = poly_features.fit_transform(X)"
   ]
  },
  {
   "cell_type": "code",
   "execution_count": 112,
   "id": "ecfaeec3",
   "metadata": {},
   "outputs": [
    {
     "name": "stdout",
     "output_type": "stream",
     "text": [
      "[[ 1.  1.  1.]\n",
      " [ 1.  2.  4.]\n",
      " [ 1.  3.  9.]\n",
      " [ 1.  4. 16.]\n",
      " [ 1.  5. 25.]\n",
      " [ 1.  6. 36.]\n",
      " [ 1.  7. 49.]\n",
      " [ 1.  8. 64.]\n",
      " [ 1.  9. 81.]]\n"
     ]
    }
   ],
   "source": [
    "print(X_poly)"
   ]
  },
  {
   "cell_type": "code",
   "execution_count": 113,
   "id": "49cdbce5",
   "metadata": {},
   "outputs": [
    {
     "data": {
      "text/plain": [
       "LinearRegression()"
      ]
     },
     "execution_count": 113,
     "metadata": {},
     "output_type": "execute_result"
    }
   ],
   "source": [
    "# Ajusta o modelo de regressão linear aos recursos polinomiais\n",
    "model = LinearRegression()\n",
    "model.fit(X_poly, y)"
   ]
  },
  {
   "cell_type": "code",
   "execution_count": 114,
   "id": "0ab76d46",
   "metadata": {},
   "outputs": [],
   "source": [
    "# Faz previsões usando o modelo ajustado\n",
    "y_pred = model.predict(X_poly)"
   ]
  },
  {
   "cell_type": "code",
   "execution_count": 115,
   "id": "bf57545b",
   "metadata": {},
   "outputs": [
    {
     "name": "stdout",
     "output_type": "stream",
     "text": [
      "Erro quadrático médio: 3.9480519480519565\n"
     ]
    }
   ],
   "source": [
    "# Calcula o erro quadrático médio\n",
    "mse = mean_squared_error(y, y_pred)\n",
    "print(f\"Erro quadrático médio: {mse}\")"
   ]
  },
  {
   "cell_type": "code",
   "execution_count": 116,
   "id": "2e050ed0",
   "metadata": {},
   "outputs": [
    {
     "data": {
      "image/png": "[encoded data removed]",
      "text/plain": [
       "<Figure size 640x480 with 1 Axes>"
      ]
     },
     "metadata": {},
     "output_type": "display_data"
    }
   ],
   "source": [
    "# Plota os dados e o modelo ajustado\n",
    "plt.scatter(X, y, label=\"Dados Reais\")\n",
    "plt.plot(X, y_pred, color=\"red\", label=\"Previsões do Modelo\")\n",
    "plt.xlabel(\"X\")\n",
    "plt.ylabel(\"y\")\n",
    "plt.legend()\n",
    "plt.title(\"Função quadrática aplicada em Data Science\")\n",
    "plt.show()"
   ]
  },
  {
   "cell_type": "markdown",
   "id": "00d77246",
   "metadata": {},
   "source": [
    "Neste exemplo, criamos um conjunto de dados fictício (X e y) e usamos a função PolynomialFeatures do scikit-learn para transformar os recursos em uma matriz de recursos polinomiais. Em seguida, ajustamos um modelo de regressão linear aos recursos polinomiais, fazemos previsões usando o modelo ajustado e calculamos o erro quadrático médio. Por fim, plotamos os dados e o modelo ajustado."
   ]
  },
  {
   "cell_type": "code",
   "execution_count": null,
   "id": "22fb31db",
   "metadata": {},
   "outputs": [],
   "source": []
  }
 ],
 "metadata": {
  "kernelspec": {
   "display_name": "Python 3 (ipykernel)",
   "language": "python",
   "name": "python3"
  },
  "language_info": {
   "codemirror_mode": {
    "name": "ipython",
    "version": 3
   },
   "file_extension": ".py",
   "mimetype": "text/x-python",
   "name": "python",
   "nbconvert_exporter": "python",
   "pygments_lexer": "ipython3",
   "version": "3.9.13"
  }
 },
 "nbformat": 4,
 "nbformat_minor": 5
}
