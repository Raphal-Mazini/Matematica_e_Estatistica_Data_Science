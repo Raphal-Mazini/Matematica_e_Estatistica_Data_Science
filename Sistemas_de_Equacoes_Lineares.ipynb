{
 "cells": [
  {
   "cell_type": "markdown",
   "id": "f0cbbfd8",
   "metadata": {},
   "source": [
    "# <center> <font color='blue'>Matemática Para Data Science</font> </center>\n",
    "\n",
    "## Sistemas de Equações Lineares"
   ]
  },
  {
   "cell_type": "code",
   "execution_count": 60,
   "id": "6c7dd3bc",
   "metadata": {},
   "outputs": [],
   "source": [
    "import numpy as np\n",
    "import sympy"
   ]
  },
  {
   "cell_type": "markdown",
   "id": "7922299b",
   "metadata": {},
   "source": [
    "## Resolvendo Sistemas de Equações Lineares com NumPy"
   ]
  },
  {
   "cell_type": "markdown",
   "id": "ca6f0998",
   "metadata": {},
   "source": [
    "Considere o seguinte sistema de equações lineares:\n",
    "\n",
    "- 2x + 3y = 8\n",
    "- 4x - 5y = -7"
   ]
  },
  {
   "cell_type": "code",
   "execution_count": 61,
   "id": "016054c9",
   "metadata": {},
   "outputs": [],
   "source": [
    "# Array com os elementos na parte esquerda da equação (constantes)\n",
    "A = np.array([[2, 3], [4, -5]])"
   ]
  },
  {
   "cell_type": "code",
   "execution_count": 62,
   "id": "86550561",
   "metadata": {},
   "outputs": [],
   "source": [
    "# Array com os elementos na parte direita da equação (valores dependentes)\n",
    "B = np.array([8, -7])"
   ]
  },
  {
   "cell_type": "code",
   "execution_count": 63,
   "id": "56c0886a",
   "metadata": {},
   "outputs": [
    {
     "name": "stdout",
     "output_type": "stream",
     "text": [
      "[0.86363636 2.09090909]\n"
     ]
    }
   ],
   "source": [
    "# Solução com a função solve\n",
    "X = np.linalg.solve(A, B)\n",
    "print(X)"
   ]
  },
  {
   "cell_type": "code",
   "execution_count": 64,
   "id": "b2aebb22",
   "metadata": {},
   "outputs": [
    {
     "name": "stdout",
     "output_type": "stream",
     "text": [
      "Solução do sistema:\n",
      "x = 0.8636363636363633\n",
      "y = 2.090909090909091\n"
     ]
    }
   ],
   "source": [
    "print(\"Solução do sistema:\")\n",
    "print(\"x =\", X[0])\n",
    "print(\"y =\", X[1])"
   ]
  },
  {
   "cell_type": "code",
   "execution_count": 65,
   "id": "29b1cfe3",
   "metadata": {},
   "outputs": [
    {
     "name": "stdout",
     "output_type": "stream",
     "text": [
      "7.999999999999999\n"
     ]
    }
   ],
   "source": [
    "print(2 * X[0] + 3 * X[1])"
   ]
  },
  {
   "cell_type": "code",
   "execution_count": 66,
   "id": "3c1fcef4",
   "metadata": {},
   "outputs": [
    {
     "name": "stdout",
     "output_type": "stream",
     "text": [
      "-7.0\n"
     ]
    }
   ],
   "source": [
    "print(4 * X[0] - 5 * X[1])"
   ]
  },
  {
   "cell_type": "markdown",
   "id": "c75b7464",
   "metadata": {},
   "source": [
    "## Resolvendo Sistemas de Equações Lineares com SymPy"
   ]
  },
  {
   "cell_type": "markdown",
   "id": "6345f7fb",
   "metadata": {},
   "source": [
    "Considere o seguinte sistema de equações lineares:\n",
    "\n",
    "- 2x + 3y = 8\n",
    "- 4x - 5y = -7"
   ]
  },
  {
   "cell_type": "code",
   "execution_count": 67,
   "id": "2c0814d5",
   "metadata": {},
   "outputs": [],
   "source": [
    "x, y = sympy.symbols('x y')"
   ]
  },
  {
   "cell_type": "code",
   "execution_count": 68,
   "id": "9f8b0c1d",
   "metadata": {},
   "outputs": [],
   "source": [
    "eq1 = sympy.Eq(2*x + 3*y, 8)"
   ]
  },
  {
   "cell_type": "code",
   "execution_count": 69,
   "id": "ee8075ba",
   "metadata": {},
   "outputs": [],
   "source": [
    "eq2 = sympy.Eq(4*x - 5*y, -7)"
   ]
  },
  {
   "cell_type": "code",
   "execution_count": 70,
   "id": "2e9eadf5",
   "metadata": {},
   "outputs": [],
   "source": [
    "sol = sympy.solve((eq1, eq2), (x, y))"
   ]
  },
  {
   "cell_type": "code",
   "execution_count": 71,
   "id": "56dc92c5",
   "metadata": {},
   "outputs": [
    {
     "name": "stdout",
     "output_type": "stream",
     "text": [
      "Solução do sistema:\n",
      "x = 19/22\n",
      "y = 23/11\n"
     ]
    }
   ],
   "source": [
    "print(\"Solução do sistema:\")\n",
    "print(\"x =\", sol[x])\n",
    "print(\"y =\", sol[y])"
   ]
  },
  {
   "cell_type": "code",
   "execution_count": 72,
   "id": "fe212ff6",
   "metadata": {},
   "outputs": [
    {
     "name": "stdout",
     "output_type": "stream",
     "text": [
      "8\n"
     ]
    }
   ],
   "source": [
    "print(2 * sol[x] + 3 * sol[y])"
   ]
  },
  {
   "cell_type": "code",
   "execution_count": 73,
   "id": "1b8694fa",
   "metadata": {},
   "outputs": [
    {
     "name": "stdout",
     "output_type": "stream",
     "text": [
      "-7\n"
     ]
    }
   ],
   "source": [
    "print(4 * sol[x] - 5 * sol[y])"
   ]
  },
  {
   "cell_type": "markdown",
   "id": "624597ff",
   "metadata": {},
   "source": [
    "## Fórmula da Regressão Linear\n",
    "\n",
    "Pode se utilizar para a resolução de uma equação de regressão linear o Gradiente Descendente, Minimos Quadrados Ordinarios, Sistema de equações lineares\n",
    "\n",
    "![DSA](imagens/formula.png)"
   ]
  },
  {
   "cell_type": "code",
   "execution_count": 74,
   "id": "c1f5a251",
   "metadata": {},
   "outputs": [],
   "source": [
    "import numpy as np\n",
    "import matplotlib.pyplot as plt"
   ]
  },
  {
   "cell_type": "code",
   "execution_count": 75,
   "id": "15cb1efa",
   "metadata": {},
   "outputs": [],
   "source": [
    "# Seed\n",
    "np.random.seed(0)"
   ]
  },
  {
   "cell_type": "code",
   "execution_count": 76,
   "id": "4627b3d8",
   "metadata": {},
   "outputs": [],
   "source": [
    "# Gerando dados aleatórios para a regressão linear\n",
    "x = np.random.rand(100)\n",
    "y = 3 * x + 2 + np.random.randn(100)"
   ]
  },
  {
   "cell_type": "code",
   "execution_count": 77,
   "id": "aa1d1d27",
   "metadata": {},
   "outputs": [
    {
     "data": {
      "image/png": "[encoded data removed]",
      "text/plain": [
       "<Figure size 640x480 with 1 Axes>"
      ]
     },
     "metadata": {},
     "output_type": "display_data"
    }
   ],
   "source": [
    "# Plotando os dados de x e y\n",
    "plt.scatter(x, y)\n",
    "plt.show()"
   ]
  },
  {
   "cell_type": "code",
   "execution_count": 78,
   "id": "37386f39",
   "metadata": {},
   "outputs": [],
   "source": [
    "# Montando o sistema de equações lineares (criando os arrays)\n",
    "A = np.vstack([x, np.ones(len(x))]).T\n",
    "b = y"
   ]
  },
  {
   "cell_type": "code",
   "execution_count": 79,
   "id": "5dd0dcdd",
   "metadata": {},
   "outputs": [],
   "source": [
    "# Resolvendo o sistema de equações lineares\n",
    "b, a = np.linalg.lstsq(A, b, rcond = None)[0]"
   ]
  },
  {
   "cell_type": "code",
   "execution_count": 80,
   "id": "dd09bd8e",
   "metadata": {},
   "outputs": [
    {
     "name": "stdout",
     "output_type": "stream",
     "text": [
      "2.2221510774472293\n"
     ]
    }
   ],
   "source": [
    "print(a)"
   ]
  },
  {
   "cell_type": "code",
   "execution_count": 81,
   "id": "d7e7d09a",
   "metadata": {},
   "outputs": [
    {
     "name": "stdout",
     "output_type": "stream",
     "text": [
      "2.936935021402038\n"
     ]
    }
   ],
   "source": [
    "print(b)"
   ]
  },
  {
   "cell_type": "code",
   "execution_count": 82,
   "id": "e284c548",
   "metadata": {},
   "outputs": [
    {
     "data": {
      "image/png": "[encoded data removed]",
      "text/plain": [
       "<Figure size 640x480 with 1 Axes>"
      ]
     },
     "metadata": {},
     "output_type": "display_data"
    }
   ],
   "source": [
    "# Plotando os dados e a linha de regressão\n",
    "plt.scatter(x, y)\n",
    "plt.plot(x, a + x * b, 'r')\n",
    "plt.show()"
   ]
  },
  {
   "cell_type": "code",
   "execution_count": 83,
   "id": "90002fd8",
   "metadata": {},
   "outputs": [
    {
     "name": "stdout",
     "output_type": "stream",
     "text": [
      "4.13046390379379\n"
     ]
    }
   ],
   "source": [
    "# Prevendo y a partir de um novo valor de x\n",
    "x = 0.64976338\n",
    "y = a + x * b\n",
    "print(y)"
   ]
  },
  {
   "cell_type": "markdown",
   "id": "2238ee61",
   "metadata": {},
   "source": [
    "# Eliminação de Gauss\n",
    "\n",
    "A ``Eliminação de Gauss`` é um método de **solução de sistemas de equações lineares**, que consiste em, **transformar a matriz dos coeficientes em uma matriz triangular superior ou inferior**, para que o sistema possa ser **resolvido por substituição**.\n",
    "\n",
    "O método é baseado na **eliminação de incógnitas**, por meio da **combinação linear das equações do sistema**,  em cada etapa do método, uma das incógnitas é eliminada, fazendo com que os coeficientes de uma linha da matriz, dos coeficientes, se anulem em relação à mesma coluna das outras linhas.\n",
    "\n",
    "A seguir, está a fórmula matemática da ``Eliminação de Gauss`` para **transformar uma matriz dos coeficientes** ``A`` em uma **matriz triangular superior**:\n",
    "\n",
    "Para cada coluna ``i`` (de 1 a n) da matriz ``A``:\n",
    "\n",
    "- Selecionar o pivô P na linha i e coluna i: P = A[i, i]\n",
    "- Para cada linha j (de i+1 a n) abaixo da linha i:\n",
    "- Calcular o fator de eliminação m: m = A[j, i] / P\n",
    "- Para cada coluna k (de i a n), subtrair a linha i multiplicada por m da linha j: A[j, k] = A[j, k] - m * A[i, k]\n",
    "- Atualizar o termo independente b_j: b[j] = b[j] - m * b[i]\n",
    "\n",
    "Após a eliminação, a **matriz dos coeficientes** ``A`` é **Transformada em uma matriz triangular superior** e o sistema pode ser **resolvido por substituição**. O processo de substituição consiste em calcular a solução para a última incógnita (x_n) e, em seguida, usar essa solução para calcular as outras incógnitas de forma recursiva, da última para a primeira."
   ]
  },
  {
   "cell_type": "markdown",
   "id": "a35b9a56",
   "metadata": {},
   "source": [
    "### Considere o seguinte sistema de equações lineares:\n",
    "\n",
    "* 2x + y + z = 5\n",
    "* 4x - 6y = -2\n",
    "* -2x + 7y + 2z = 9"
   ]
  },
  {
   "cell_type": "code",
   "execution_count": 84,
   "id": "8c0314b5",
   "metadata": {},
   "outputs": [],
   "source": [
    "# Matrizes para os termos das equações\n",
    "A = np.array([[2, 1, 1], [4, -6, 0], [-2, 7, 2]])  # matriz dos coeficientes\n",
    "b = np.array([5, -2, 9])  # vetor de termos independentes"
   ]
  },
  {
   "cell_type": "code",
   "execution_count": 85,
   "id": "141e2594",
   "metadata": {},
   "outputs": [
    {
     "name": "stdout",
     "output_type": "stream",
     "text": [
      "[[ 2  1  1]\n",
      " [ 4 -6  0]\n",
      " [-2  7  2]]\n"
     ]
    }
   ],
   "source": [
    "print(A)"
   ]
  },
  {
   "cell_type": "code",
   "execution_count": 86,
   "id": "9c79c0fc",
   "metadata": {},
   "outputs": [
    {
     "name": "stdout",
     "output_type": "stream",
     "text": [
      "[ 5 -2  9]\n"
     ]
    }
   ],
   "source": [
    "print(b)"
   ]
  },
  {
   "cell_type": "code",
   "execution_count": 87,
   "id": "b8072e80",
   "metadata": {},
   "outputs": [],
   "source": [
    "# Transformando a matriz em uma matriz triangular superior\n",
    "\n",
    "# Comprimento de b\n",
    "n = len(b)\n",
    "\n",
    "# Loop externo\n",
    "for i in range(n):\n",
    "    \n",
    "    # Pivô\n",
    "    pivot = A[i, i]\n",
    "    \n",
    "    # Loop interno\n",
    "    # Eliminação\n",
    "    for j in range(i+1, n):\n",
    "        factor = A[j, i] / pivot\n",
    "        A[j, i:] = A[j, i:] - factor * A[i, i:]\n",
    "        b[j] = b[j] - factor * b[i]"
   ]
  },
  {
   "cell_type": "code",
   "execution_count": 88,
   "id": "b51e263f",
   "metadata": {},
   "outputs": [],
   "source": [
    "# Resolvendo o sistema por substituição\n",
    "x = np.zeros(n)\n",
    "for i in range(n-1, -1, -1):\n",
    "    x[i] = (b[i] - np.dot(A[i, i+1:], x[i+1:])) / A[i, i]"
   ]
  },
  {
   "cell_type": "code",
   "execution_count": 89,
   "id": "103b62e6",
   "metadata": {},
   "outputs": [
    {
     "name": "stdout",
     "output_type": "stream",
     "text": [
      "Solução encontrada: [1. 1. 2.]\n"
     ]
    }
   ],
   "source": [
    "print('Solução encontrada:', x)"
   ]
  },
  {
   "cell_type": "markdown",
   "id": "af773f34",
   "metadata": {},
   "source": [
    "# Decomposição LU (Lower Upper)\n",
    "\n",
    "A ``Decomposição LU`` é um método de solução de sistemas de equações lineares que consiste em, **fatorar a matriz dos coeficientes** ``A`` em **duas matrizes, uma triangular inferior** ``L`` e outra **triangular superior** ``U``, de forma que`` A = LU``.\n",
    "\n",
    "A ``fatoração LU`` pode ser calculada utilizando o método de ``Eliminação de Gauss``, que **transforma a matriz dos coeficientes em uma matriz triangular superior ou inferior**. A matriz ``L`` contém os **fatores de eliminação** usados para **transformar a matriz dos coeficientes em uma matriz triangular**, enquanto a matriz ``U`` é a **matriz triangular resultante da eliminação**.\n",
    "\n",
    "A fórmula matemática para a ``fatoração LU`` é:\n",
    "\n",
    "Para cada coluna ``i`` (de 1 a n) da matriz`` A``:\n",
    "\n",
    "- Selecionar o pivô P na linha i e coluna i: P = A[i, i]\n",
    "- Para cada linha j (de i+1 a n) abaixo da linha i:\n",
    "- Calcular o fator de eliminação m: m = A[j, i] / P\n",
    "- Para cada coluna k (de i a n), subtrair a linha i multiplicada por m da linha j: A[j, k] = A[j, k] - m * A[i, k]\n",
    "- Atualizar o termo independente b_j: b[j] = b[j] - m * b[i]\n",
    "- Armazenar o fator de eliminação na matriz L: L[j, i] = m\n",
    "- A matriz U é a matriz triangular superior resultante da eliminação.\n",
    "\n",
    "O resultado da ``fatoração LU`` é a matriz`` ``A escrita como o produto de duas matrizes, ``A = LU``, em que ``L`` é uma **matriz triangular inferior com diagonal unitária**, ou seja, com ``1's`` na **diagonal principal** e ``U`` é uma **matriz triangular superior**. A solução do sistema pode ser calculada resolvendo-se dois sistemas de equações lineares triangulares, ``Lc = b e Ux = c``, em que ``c`` é um **vetor auxiliar**.\n",
    "\n",
    "Note que a ``fatoração LU`` não pode ser aplicada a todas as matrizes, sendo necessário verificar as condições de existência da fatoração, como a não singularidade da matriz`` A`` e a **não existência de pivôs nulos na eliminação**.\n",
    "\n",
    "### Considere o seguinte sistema de equações lineares:\n",
    "\n",
    "*  2x + y + z = 5\n",
    "*  4x - 6y = -2\n",
    "*  -2x + 7y + 2z = 9"
   ]
  },
  {
   "cell_type": "code",
   "execution_count": 90,
   "id": "176e8744",
   "metadata": {},
   "outputs": [],
   "source": [
    "import scipy.linalg as la"
   ]
  },
  {
   "cell_type": "code",
   "execution_count": 91,
   "id": "7d8171a2",
   "metadata": {},
   "outputs": [
    {
     "name": "stdout",
     "output_type": "stream",
     "text": [
      "Solução encontrada: [1. 1. 2.]\n"
     ]
    }
   ],
   "source": [
    "# Matrizes para os termos das equações\n",
    "A = np.array([[2, 1, 1], [4, -6, 0], [-2, 7, 2]])  # matriz dos coeficientes\n",
    "b = np.array([5, -2, 9])  # vetor de termos independentes\n",
    "\n",
    "# Fatorando a matriz dos coeficientes em uma matriz triangular inferior e outra superior\n",
    "P, L, U = la.lu(A)\n",
    "\n",
    "# Resolvendo o sistema por substituição\n",
    "y = la.solve_triangular(L, P @ b, lower=True)\n",
    "x = la.solve_triangular(U, y)\n",
    "\n",
    "print('Solução encontrada:', x)"
   ]
  },
  {
   "cell_type": "markdown",
   "id": "1c5811c1",
   "metadata": {},
   "source": [
    "# Método da Matriz Inversa\n",
    "\n",
    "O ``Método da Matriz Inversa``, é utilizado para resolver sistemas de equações lineares, que consiste em **calcular a inversa da matriz** dos coeficientes e, em seguida, **multiplicar a inversa** pela **matriz dos termos independentes** para obter a solução.\n",
    "\n",
    "Seja um sistema de equações lineares``Ax = b``, em que ``A`` é a matriz dos coeficientes, ``x`` é o vetor das incógnitas e ``b`` é o **vetor dos termos independentes**. A solução do sistema é dada por ``x = A^-1 * b``, onde`` A^-1`` é a **matriz inversa** de ``A``.\n",
    "\n",
    "A fórmula matemática para a inversa de uma matriz 2x2 é:\n",
    "\n",
    "``A^-1 = 1/det(A) * [d(A) -b(A); -c(A) a(A)]``\n",
    "\n",
    "onde ``det(A)`` é o determinante de **A, a(A), b(A), c(A) e d(A)** são os elementos da matriz ``A``.\n",
    "\n",
    "Para matrizes maiores do que 2x2, o processo de inversão é mais complexo e geralmente envolve técnicas como a eliminação gaussiana com pivotação parcial.\n",
    "\n",
    "Assim, o método da matriz inversa consiste em:\n",
    "\n",
    "- Calcular a matriz inversa de A\n",
    "- Multiplicar a matriz inversa pela matriz dos termos independentes b para obter a solução x = A^-1 * b.\n",
    "\n",
    "O método da matriz inversa é computacionalmente caro para sistemas grandes, pois a inversão de uma matriz grande é um processo computacionalmente intensivo. Além disso, nem todas as matrizes têm inversa, tornando esse método inadequado para alguns sistemas."
   ]
  },
  {
   "cell_type": "markdown",
   "id": "41191742",
   "metadata": {},
   "source": [
    "### Considere o seguinte sistema de equações lineares:\n",
    "\n",
    "*  2x + y + z = 5\n",
    "*  4x - 6y = -2\n",
    "*  -2x + 7y + 2z = 9"
   ]
  },
  {
   "cell_type": "code",
   "execution_count": 92,
   "id": "44f1b0e5",
   "metadata": {},
   "outputs": [
    {
     "name": "stdout",
     "output_type": "stream",
     "text": [
      "Solução encontrada: [1. 1. 2.]\n"
     ]
    }
   ],
   "source": [
    "# Matrizes para os termos das equações\n",
    "A = np.array([[2, 1, 1], [4, -6, 0], [-2, 7, 2]])  # matriz dos coeficientes\n",
    "b = np.array([5, -2, 9])  # vetor de termos independentes\n",
    "\n",
    "# Calculando a matriz inversa de A\n",
    "A_inv = np.linalg.inv(A)\n",
    "\n",
    "# Resolvendo o sistema pela multiplicação da matriz inversa por b\n",
    "x = A_inv @ b\n",
    "\n",
    "print('Solução encontrada:', x)"
   ]
  },
  {
   "cell_type": "markdown",
   "id": "18ce1832",
   "metadata": {},
   "source": [
    "# Escalonamento de Matrizes\n",
    "\n",
    "O escalonamento é uma técnica para resolver sistemas de equações lineares que consiste em transformar a matriz dos coeficientes em uma matriz escalonada, que é uma matriz triangular superior ou inferior. É muito similar à Eliminação de Gauss.\n",
    "\n",
    "O processo de escalonamento envolve a eliminação de incógnitas por meio da combinação linear das equações do sistema. Em cada etapa do processo, uma das incógnitas é eliminada, fazendo com que os coeficientes de uma linha da matriz dos coeficientes se anulem em relação à mesma coluna das outras linhas.\n",
    "\n",
    "A seguir, estão os passos para a solução de sistemas lineares utilizando escalonamento:\n",
    "\n",
    "1- Escrever o sistema na forma matricial Ax = b, em que A é a matriz dos coeficientes, x é o vetor das incógnitas e b é o vetor dos termos independentes.\n",
    "\n",
    "\n",
    "2- Selecionar a primeira incógnita e a primeira equação do sistema. Se o coeficiente dessa incógnita for zero, trocar a linha com outra linha abaixo que tenha um coeficiente diferente de zero nessa coluna.\n",
    "\n",
    "\n",
    "3- Utilizar a primeira equação para eliminar a primeira incógnita em todas as outras equações abaixo, usando operações elementares em linhas da matriz dos coeficientes.\n",
    "\n",
    "\n",
    "4- Selecionar a segunda incógnita e a segunda equação abaixo da primeira. Se o coeficiente dessa incógnita for zero, trocar a linha com outra linha abaixo que tenha um coeficiente diferente de zero nessa coluna.\n",
    "\n",
    "\n",
    "5- Utilizar a segunda equação para eliminar a segunda incógnita em todas as outras equações abaixo, usando operações elementares em linhas da matriz dos coeficientes.\n",
    "\n",
    "\n",
    "6- Repetir os passos 4 e 5 para cada uma das outras incógnitas, selecionando a próxima incógnita abaixo da anterior.\n",
    "\n",
    "\n",
    "7- Verificar a existência e a unicidade da solução. Se todas as linhas escalonadas tiverem pelo menos um coeficiente diferente de zero na diagonal principal, o sistema tem solução única. Caso contrário, o sistema pode não ter solução ou ter infinitas soluções.\n",
    "\n",
    "\n",
    "8- Resolver o sistema triangular superior ou inferior resultante do escalonamento por substituição, começando pela última incógnita e trabalhando em direção à primeira.\n",
    "\n",
    "\n",
    "O escalonamento é um método eficiente para resolver sistemas de equações lineares, especialmente para sistemas pequenos. No entanto, para sistemas grandes, ele pode ser computacionalmente caro e a eliminação gaussiana é geralmente preferida."
   ]
  },
  {
   "cell_type": "markdown",
   "id": "bb31f3b3",
   "metadata": {},
   "source": [
    "### Considere o seguinte sistema de equações lineares:\n",
    "\n",
    "*  2x + y + z = 5\n",
    "*  4x - 6y = -2\n",
    "*  -2x + 7y + 2z = 9"
   ]
  },
  {
   "cell_type": "code",
   "execution_count": 93,
   "id": "e3d94d8f",
   "metadata": {},
   "outputs": [
    {
     "name": "stdout",
     "output_type": "stream",
     "text": [
      "Solução encontrada: [1. 1. 2.]\n"
     ]
    }
   ],
   "source": [
    "# Matrizes para os termos das equações\n",
    "A = np.array([[2, 1, 1], [4, -6, 0], [-2, 7, 2]], dtype=float)  # matriz dos coeficientes\n",
    "b = np.array([5, -2, 9], dtype=float)  # vetor de termos independentes\n",
    "\n",
    "# Escalonar a matriz dos coeficientes e o vetor dos termos independentes\n",
    "n = len(b)\n",
    "for i in range(n):\n",
    "    \n",
    "    # Selecionar a linha com o maior valor absoluto na coluna i\n",
    "    max_row = i + np.argmax(np.abs(A[i:, i]))\n",
    "    \n",
    "    # Trocar a linha atual com a linha com o maior valor absoluto\n",
    "    A[[i, max_row]] = A[[max_row, i]]\n",
    "    b[[i, max_row]] = b[[max_row, i]]\n",
    "    \n",
    "    # Eliminar a incógnita i nas equações abaixo\n",
    "    for j in range(i+1, n):\n",
    "        factor = A[j, i] / A[i, i]\n",
    "        A[j, i:] -= factor * A[i, i:]\n",
    "        b[j] -= factor * b[i]\n",
    "\n",
    "# Verificar a existência e a unicidade da solução\n",
    "if np.any(np.diag(A) == 0):\n",
    "    print('Sistema não tem solução única')\n",
    "else:\n",
    "    # Resolver o sistema triangular superior resultante\n",
    "    x = np.zeros(n)\n",
    "    for i in range(n-1, -1, -1):\n",
    "        x[i] = (b[i] - np.dot(A[i, i+1:], x[i+1:])) / A[i, i]\n",
    "    print('Solução encontrada:', x)"
   ]
  },
  {
   "cell_type": "markdown",
   "id": "782e6204",
   "metadata": {},
   "source": [
    "# Método de Jacobi\n",
    "\n",
    "O Método de Jacobi é um método iterativo para resolver sistemas de equações lineares. Ele consiste em iterar por um número fixo de vezes até que a solução converja. Em cada iteração, as incógnitas são atualizadas com base em uma fórmula específica que depende dos coeficientes do sistema.\n",
    "\n",
    "A fórmula matemática do Método de Jacobi é:\n",
    "\n",
    "- Para cada incógnita x_i (de 1 a n) do sistema:\n",
    "\n",
    "- Inicializar as incógnitas com um valor inicial x_i^0\n",
    "\n",
    "- Para cada iteração k (de 1 a N), atualizar cada incógnita x_i^k+1 com a seguinte fórmula:\n",
    "\n",
    "x_i^k+1 = (b_i - Sum(A_ij * x_j^k, j=1 to n, j!=i)) / A_ii\n",
    "\n",
    "onde b é o vetor de termos independentes e A é a matriz dos coeficientes.\n",
    "\n",
    "O processo iterativo deve ser repetido até que a solução convirja para um valor aceitável, ou até que um número máximo de iterações seja atingido.\n",
    "\n",
    "A fórmula acima indica que a atualização de cada incógnita x_i depende dos valores atuais das outras incógnitas x_j. Essa dependência entre as incógnitas é o que torna o método iterativo.\n",
    "\n",
    "O Método de Jacobi converge para uma solução se a matriz dos coeficientes A for diagonalmente dominante, ou seja, se o módulo do elemento na diagonal principal for maior do que a soma dos módulos dos outros elementos da mesma linha. Além disso, a convergência também depende do valor inicial das incógnitas e do número de iterações."
   ]
  },
  {
   "cell_type": "markdown",
   "id": "cdf03bbf",
   "metadata": {},
   "source": [
    "### Considere o seguinte sistema de equações lineares:\n",
    "\n",
    "*  2x + y + z = 5\n",
    "*  4x - 6y = -2\n",
    "*  -2x + 7y + 2z = 9"
   ]
  },
  {
   "cell_type": "code",
   "execution_count": 94,
   "id": "3a1c6b9e",
   "metadata": {},
   "outputs": [
    {
     "name": "stdout",
     "output_type": "stream",
     "text": [
      "Solução encontrada: [0.98808419 1.02566477 1.093492  ]\n"
     ]
    }
   ],
   "source": [
    "# Definir o sistema de equações lineares na forma Ax = b\n",
    "A = np.array([[10, 1, 1], [2, -10, 3], [1, 3, 10]])\n",
    "b = np.array([12, -5, 15])\n",
    "\n",
    "# Definir o número máximo de iterações e a tolerância para convergência\n",
    "max_iter = 100\n",
    "tolerance = 1e-6\n",
    "\n",
    "# Definir a matriz de iterações do método de Jacobi\n",
    "n = len(b)\n",
    "x = np.zeros(n)\n",
    "x_next = np.zeros(n)\n",
    "\n",
    "# Executar o método de Jacobi\n",
    "for k in range(max_iter):\n",
    "    \n",
    "    for i in range(n):\n",
    "        x_next[i] = (b[i] - np.dot(A[i, :i], x[:i]) - np.dot(A[i, i+1:], x[i+1:])) / A[i, i]\n",
    "    \n",
    "    # Verificar a convergência\n",
    "    if np.linalg.norm(x_next - x) < tolerance:\n",
    "        break\n",
    "    x[:] = x_next\n",
    "\n",
    "# Imprimir a solução encontrada\n",
    "print('Solução encontrada:', x)"
   ]
  },
  {
   "cell_type": "code",
   "execution_count": null,
   "id": "90c4fa07",
   "metadata": {},
   "outputs": [],
   "source": []
  }
 ],
 "metadata": {
  "kernelspec": {
   "display_name": "Python 3 (ipykernel)",
   "language": "python",
   "name": "python3"
  },
  "language_info": {
   "codemirror_mode": {
    "name": "ipython",
    "version": 3
   },
   "file_extension": ".py",
   "mimetype": "text/x-python",
   "name": "python",
   "nbconvert_exporter": "python",
   "pygments_lexer": "ipython3",
   "version": "3.9.13"
  }
 },
 "nbformat": 4,
 "nbformat_minor": 5
}
